{
 "cells": [
  {
   "cell_type": "code",
   "execution_count": null,
   "id": "6729d497",
   "metadata": {},
   "outputs": [],
   "source": [
    "# django database example\n",
    "\n",
    "# django-admin startproject dbproject\n",
    "\n",
    "# cd dbproject\n",
    "\n",
    "# python3 manage.py dbapp\n",
    "\n",
    "# database - postgresql  dbname - testorm_3  usename - testdb password - password\n",
    "\n",
    "# settings.py\n",
    "\n",
    "# INSTALLED_APPS =[\n",
    "#     .....\n",
    "#     'dbapp'\n",
    "#]\n",
    "#\n",
    "#\n",
    "#DATABASES = {  \n",
    "#    'default': {  \n",
    "#        'ENGINE': 'django.db.backends.postgresql',  \n",
    "#        'NAME': 'testorm_3',  \n",
    "#        'USER':'testdb',  \n",
    "#        'PASSWORD':'password',  \n",
    "#        'HOST':'localhost',  \n",
    "#        'PORT':'5432'  \n",
    "#    }  \n",
    "#} \n",
    "\n",
    "# models.py\n",
    "# \n",
    "#from django.db import models  \n",
    "#class Book(models.Model):  \n",
    "#    bookid = models.CharField(max_length=20)  \n",
    "#    booktitle = models.CharField(max_length=100)  \n",
    "#    bookauthor = models.EmailField()  \n",
    "#    class Meta:  \n",
    "#        db_table = \"books\"\n",
    "\n",
    "# forms.py ( file to be created)\n",
    "# from django import forms  \n",
    "# from .models import Book  \n",
    "# class EmployeeForm(forms.ModelForm):  \n",
    "#    class Meta:  \n",
    "#        model = Book\n",
    "#        fields = \"__all__\" \n",
    "\n",
    "\n",
    "# running migration to create tables based on models\n",
    "# python manage.py makemigrations\n",
    "# pytthon manage.py migrate\n",
    "\n"
   ]
  }
 ],
 "metadata": {
  "kernelspec": {
   "display_name": "Python 3 (ipykernel)",
   "language": "python",
   "name": "python3"
  },
  "language_info": {
   "codemirror_mode": {
    "name": "ipython",
    "version": 3
   },
   "file_extension": ".py",
   "mimetype": "text/x-python",
   "name": "python",
   "nbconvert_exporter": "python",
   "pygments_lexer": "ipython3",
   "version": "3.7.3"
  }
 },
 "nbformat": 4,
 "nbformat_minor": 5
}
