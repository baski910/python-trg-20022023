{
 "cells": [
  {
   "cell_type": "code",
   "execution_count": 1,
   "id": "a256e4d1",
   "metadata": {},
   "outputs": [
    {
     "name": "stdout",
     "output_type": "stream",
     "text": [
      "{'status': 'success', 'data': [{'id': 1, 'booktitle': 'programming in c', 'bookauthor': 'byron gotfred'}]}\n"
     ]
    },
    {
     "name": "stderr",
     "output_type": "stream",
     "text": [
      "/home/baskar/venv-python37/lib/python3.7/site-packages/requests/__init__.py:104: RequestsDependencyWarning: urllib3 (1.26.9) or chardet (5.1.0)/charset_normalizer (2.0.12) doesn't match a supported version!\n",
      "  RequestsDependencyWarning)\n"
     ]
    }
   ],
   "source": [
    "# using requests to consume the rest end points\n",
    "\n",
    "import requests\n",
    "import json\n",
    "\n",
    "r = requests.get(\"http://localhost:8000/restapp/books\")\n",
    "\n",
    "if r.status_code == 200:\n",
    "    d1 = json.loads(r.text)\n",
    "    print(d1)\n"
   ]
  },
  {
   "cell_type": "code",
   "execution_count": 10,
   "id": "7577d620",
   "metadata": {},
   "outputs": [
    {
     "name": "stdout",
     "output_type": "stream",
     "text": [
      "{\"status\":\"success\",\"data\":{\"booktitle\":\"programming in cpp\",\"bookauthor\":\"some author\"}}\n"
     ]
    }
   ],
   "source": [
    "import sys\n",
    "data = {\n",
    "    \"booktitle\": \"programming in cpp\",\n",
    "    \"bookauthor\": \"some author\"\n",
    "}\n",
    "headers = {\"Content-Type\": \"application/json\"}\n",
    "\n",
    "r = requests.post(\"http://localhost:8000/restapp/books\", data = json.dumps(data), headers = headers)\n",
    "\n",
    "if r.status_code == 200:\n",
    "    print(r.text)\n",
    "else:\n",
    "    print(r.text)"
   ]
  },
  {
   "cell_type": "code",
   "execution_count": 11,
   "id": "2600ca8a",
   "metadata": {},
   "outputs": [
    {
     "name": "stdout",
     "output_type": "stream",
     "text": [
      "{'status': 'success', 'data': [{'id': 1, 'booktitle': 'programming in c', 'bookauthor': 'byron gotfred'}, {'id': 2, 'booktitle': 'programming in python', 'bookauthor': 'van rossum'}, {'id': 3, 'booktitle': 'programming in cpp', 'bookauthor': 'some author'}]}\n"
     ]
    }
   ],
   "source": [
    "r = requests.get(\"http://localhost:8000/restapp/books\")\n",
    "\n",
    "if r.status_code == 200:\n",
    "    d1 = json.loads(r.text)\n",
    "    print(d1)\n"
   ]
  },
  {
   "cell_type": "code",
   "execution_count": null,
   "id": "d88472f9",
   "metadata": {},
   "outputs": [],
   "source": []
  }
 ],
 "metadata": {
  "kernelspec": {
   "display_name": "Python 3 (ipykernel)",
   "language": "python",
   "name": "python3"
  },
  "language_info": {
   "codemirror_mode": {
    "name": "ipython",
    "version": 3
   },
   "file_extension": ".py",
   "mimetype": "text/x-python",
   "name": "python",
   "nbconvert_exporter": "python",
   "pygments_lexer": "ipython3",
   "version": "3.7.3"
  }
 },
 "nbformat": 4,
 "nbformat_minor": 5
}
