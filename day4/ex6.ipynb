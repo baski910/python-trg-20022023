{
 "cells": [
  {
   "cell_type": "code",
   "execution_count": 1,
   "id": "c240062a",
   "metadata": {},
   "outputs": [],
   "source": [
    "from openpyxl import Workbook\n",
    "from openpyxl.chart import BarChart,Series,Reference\n",
    "\n",
    "wb=Workbook()\n",
    "ws=wb.create_sheet()\n",
    "\n",
    "rows=[('Number','Batch 1','Batch 2'),\n",
    "      (2, 10, 30),\n",
    "    (3, 40, 60),\n",
    "    (4, 50, 70),\n",
    "    (5, 20, 10),\n",
    "    (6, 10, 40),\n",
    "    (7, 50, 30),\n",
    "]\n",
    "for row in rows:\n",
    "    ws.append(row)\n",
    "\n",
    "chart1 = BarChart()\n",
    "chart1.type = \"col\"\n",
    "chart1.style = 10\n",
    "chart1.title = \"Bar Chart\"\n",
    "chart1.y_axis.title = 'Test number'\n",
    "chart1.x_axis.title = 'Sample length (mm)'\n",
    "\n",
    "data=Reference(ws,min_col=2,min_row=1,max_row=7,max_col=3)\n",
    "cats=Reference(ws,min_col=1,min_row=2,max_row=7)\n",
    "chart1.add_data(data,titles_from_data=True)\n",
    "chart1.set_categories(cats)\n",
    "ws.add_chart(chart1,\"A10\")\n",
    "\n",
    "wb.save('chart_example.xlsx')"
   ]
  },
  {
   "cell_type": "code",
   "execution_count": null,
   "id": "b82ca26e",
   "metadata": {},
   "outputs": [],
   "source": []
  }
 ],
 "metadata": {
  "kernelspec": {
   "display_name": "Python 3 (ipykernel)",
   "language": "python",
   "name": "python3"
  },
  "language_info": {
   "codemirror_mode": {
    "name": "ipython",
    "version": 3
   },
   "file_extension": ".py",
   "mimetype": "text/x-python",
   "name": "python",
   "nbconvert_exporter": "python",
   "pygments_lexer": "ipython3",
   "version": "3.7.3"
  }
 },
 "nbformat": 4,
 "nbformat_minor": 5
}
