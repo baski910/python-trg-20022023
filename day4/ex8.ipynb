{
 "cells": [
  {
   "cell_type": "code",
   "execution_count": 1,
   "id": "fcec733c",
   "metadata": {},
   "outputs": [],
   "source": [
    "# working with databases\n",
    "# mysql - pymysql (or) mysqlclient\n",
    "# postgresql - psycopg2\n",
    "# oracle - cx_Oracle"
   ]
  },
  {
   "cell_type": "code",
   "execution_count": 4,
   "id": "c1c329ba",
   "metadata": {},
   "outputs": [
    {
     "name": "stdout",
     "output_type": "stream",
     "text": [
      "table created\n"
     ]
    }
   ],
   "source": [
    "import sys\n",
    "import psycopg2\n",
    "\n",
    "conn = psycopg2.connect(host='localhost',user='testdb',password='password',dbname='demodb')\n",
    "\n",
    "if not conn:\n",
    "    print(\"unable to connect to database\")\n",
    "    sys.exit()\n",
    "\n",
    "\n",
    "    # create a cursor object to create tables\n",
    "cur = conn.cursor()\n",
    "\n",
    "try:\n",
    "    cur.execute(\"create table books(bookid int,booktitle varchar(50))\")\n",
    "    conn.commit()\n",
    "except:\n",
    "    print(\"error executing the query\",sys.exc_info()[1])\n",
    "else:\n",
    "    print('table created')"
   ]
  },
  {
   "cell_type": "code",
   "execution_count": null,
   "id": "07ee88dd",
   "metadata": {},
   "outputs": [],
   "source": []
  }
 ],
 "metadata": {
  "kernelspec": {
   "display_name": "Python 3 (ipykernel)",
   "language": "python",
   "name": "python3"
  },
  "language_info": {
   "codemirror_mode": {
    "name": "ipython",
    "version": 3
   },
   "file_extension": ".py",
   "mimetype": "text/x-python",
   "name": "python",
   "nbconvert_exporter": "python",
   "pygments_lexer": "ipython3",
   "version": "3.7.3"
  }
 },
 "nbformat": 4,
 "nbformat_minor": 5
}
