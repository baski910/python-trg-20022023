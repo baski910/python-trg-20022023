{
 "cells": [
  {
   "cell_type": "code",
   "execution_count": 8,
   "id": "22ad0187",
   "metadata": {},
   "outputs": [
    {
     "name": "stdout",
     "output_type": "stream",
     "text": [
      " * Serving Flask app '__main__' (lazy loading)\n",
      " * Environment: production\n",
      "\u001b[31m   WARNING: This is a development server. Do not use it in a production deployment.\u001b[0m\n",
      "\u001b[2m   Use a production WSGI server instead.\u001b[0m\n",
      " * Debug mode: off\n"
     ]
    },
    {
     "name": "stderr",
     "output_type": "stream",
     "text": [
      " * Running on http://127.0.0.1:5000 (Press CTRL+C to quit)\n",
      "127.0.0.1 - - [23/Feb/2023 14:23:06] \"GET / HTTP/1.1\" 200 -\n",
      "127.0.0.1 - - [23/Feb/2023 14:23:23] \"POST /getParams HTTP/1.1\" 200 -\n"
     ]
    }
   ],
   "source": [
    "# simple flask app\n",
    "# install flask\n",
    "# pip install flask\n",
    "\n",
    "from flask import Flask, render_template, request\n",
    "\n",
    "app = Flask(__name__)\n",
    "\n",
    "@app.route('/') # / - http://localhost:5000\n",
    "def home():\n",
    "    #msg = \"message from flask application\"\n",
    "    #return render_template(\"index.html\",message=msg)\n",
    "    #list_of_names = ['tom','pat','sam','bob']\n",
    "    #return render_template(\"index.html\",names=list_of_names)\n",
    "    list_of_names = [{'name':'tom'},{'name':'pat'},{'name':'sam'},{'name':'bob'}]\n",
    "    return render_template(\"index.html\",names=list_of_names)\n",
    "    #return \"helloworld\"\n",
    "\n",
    "@app.route('/getParams', methods=['GET','POST'])\n",
    "def getParams():\n",
    "    name = request.form['username']\n",
    "    mail = request.form['usermail']\n",
    "    return \"<h1>Posted values are {} - {}</h1>\".format(name,mail)\n",
    "    \n",
    "if __name__ == '__main__':\n",
    "    app.run()"
   ]
  },
  {
   "cell_type": "code",
   "execution_count": null,
   "id": "996d23d5",
   "metadata": {},
   "outputs": [],
   "source": []
  }
 ],
 "metadata": {
  "kernelspec": {
   "display_name": "Python 3 (ipykernel)",
   "language": "python",
   "name": "python3"
  },
  "language_info": {
   "codemirror_mode": {
    "name": "ipython",
    "version": 3
   },
   "file_extension": ".py",
   "mimetype": "text/x-python",
   "name": "python",
   "nbconvert_exporter": "python",
   "pygments_lexer": "ipython3",
   "version": "3.7.3"
  }
 },
 "nbformat": 4,
 "nbformat_minor": 5
}
