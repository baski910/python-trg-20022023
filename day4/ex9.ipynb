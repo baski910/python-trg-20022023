{
 "cells": [
  {
   "cell_type": "code",
   "execution_count": 4,
   "id": "6604c28d",
   "metadata": {},
   "outputs": [
    {
     "name": "stdout",
     "output_type": "stream",
     "text": [
      "Enter book id2\n",
      "Enter book titleprogramming in cpp\n",
      "record created\n"
     ]
    }
   ],
   "source": [
    "import sys\n",
    "import psycopg2\n",
    "\n",
    "bookid = int(input(\"Enter book id\"))\n",
    "booktitle = input(\"Enter book title\")\n",
    "\n",
    "conn = psycopg2.connect(host='localhost',user='testdb',password='password',dbname='demodb')\n",
    "\n",
    "if not conn:\n",
    "    print(\"unable to connect to database\")\n",
    "    sys.exit()\n",
    "\n",
    "\n",
    "    # create a cursor object to create tables\n",
    "cur = conn.cursor()\n",
    "\n",
    "try:\n",
    "    #cur.execute(\"insert into books values(1,'programming in python')\")\n",
    "    cur.execute(f\"insert into books values({bookid},'{booktitle}')\")\n",
    "    conn.commit()\n",
    "except:\n",
    "    print(\"error executing the query\",sys.exc_info()[1])\n",
    "else:\n",
    "    print('record created')"
   ]
  },
  {
   "cell_type": "code",
   "execution_count": null,
   "id": "81adf6ec",
   "metadata": {},
   "outputs": [],
   "source": []
  }
 ],
 "metadata": {
  "kernelspec": {
   "display_name": "Python 3 (ipykernel)",
   "language": "python",
   "name": "python3"
  },
  "language_info": {
   "codemirror_mode": {
    "name": "ipython",
    "version": 3
   },
   "file_extension": ".py",
   "mimetype": "text/x-python",
   "name": "python",
   "nbconvert_exporter": "python",
   "pygments_lexer": "ipython3",
   "version": "3.7.3"
  }
 },
 "nbformat": 4,
 "nbformat_minor": 5
}
