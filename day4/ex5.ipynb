{
 "cells": [
  {
   "cell_type": "code",
   "execution_count": 8,
   "id": "9c6eef7f",
   "metadata": {},
   "outputs": [
    {
     "name": "stdout",
     "output_type": "stream",
     "text": [
      "AA\n"
     ]
    }
   ],
   "source": [
    "from openpyxl import Workbook\n",
    "#from openpyxl.compat import range\n",
    "from openpyxl.utils import get_column_letter\n",
    "\n",
    "wb = Workbook()\n",
    "\n",
    "ws1 = wb.active\n",
    "\n",
    "dest_filename = 'test_excel1.xlsx'\n",
    " \n",
    "ws1.title = \"range names\"\n",
    "\n",
    "for row in range(1, 40):\n",
    "    ws1.append(range(60))\n",
    "\n",
    "ws2 = wb.create_sheet(title=\"Pi\")\n",
    "\n",
    "ws2['F5'] = 3.14\n",
    "\n",
    "ws3 = wb.create_sheet(title=\"Data\")\n",
    "for row in range(10, 20):\n",
    "    for col in range(27, 54):\n",
    "        ws3.cell(column=col, row=row, value=\"{}\".format(get_column_letter(col)))\n",
    "print(ws3['AA10'].value)\n",
    "\n",
    "wb.save(filename = dest_filename)"
   ]
  },
  {
   "cell_type": "code",
   "execution_count": null,
   "id": "d2723b50",
   "metadata": {},
   "outputs": [],
   "source": []
  }
 ],
 "metadata": {
  "kernelspec": {
   "display_name": "Python 3 (ipykernel)",
   "language": "python",
   "name": "python3"
  },
  "language_info": {
   "codemirror_mode": {
    "name": "ipython",
    "version": 3
   },
   "file_extension": ".py",
   "mimetype": "text/x-python",
   "name": "python",
   "nbconvert_exporter": "python",
   "pygments_lexer": "ipython3",
   "version": "3.7.3"
  }
 },
 "nbformat": 4,
 "nbformat_minor": 5
}
