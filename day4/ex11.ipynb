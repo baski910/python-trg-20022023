{
 "cells": [
  {
   "cell_type": "code",
   "execution_count": 1,
   "id": "a156babc",
   "metadata": {},
   "outputs": [
    {
     "name": "stdout",
     "output_type": "stream",
     "text": [
      "ID:1,Title:programming in python\n",
      "ID:2,Title:programming in cpp\n"
     ]
    }
   ],
   "source": [
    "import sys\n",
    "import psycopg2\n",
    "import psycopg2.extras\n",
    "\n",
    "conn = psycopg2.connect(host='localhost',user='testdb',password='password',dbname='demodb')\n",
    "\n",
    "if not conn:\n",
    "    print(\"unable to connect to database\")\n",
    "    sys.exit()\n",
    "\n",
    "\n",
    "# create a cursor object to create tables\n",
    "cur = conn.cursor(cursor_factory=psycopg2.extras.DictCursor) # cursor_factory parameter is passed for fetching records as dictionary\n",
    "\n",
    "try:\n",
    "    cur.execute(\"select * from books\")\n",
    "except:\n",
    "    print(\"error executing the query\",sys.exc_info()[1])\n",
    "else:\n",
    "    records = cur.fetchall() # records is a tuple of tuples\n",
    "    for row in records:\n",
    "        print(f\"ID:{row['bookid']},Title:{row['booktitle']}\")"
   ]
  },
  {
   "cell_type": "code",
   "execution_count": null,
   "id": "191f4ec9",
   "metadata": {},
   "outputs": [],
   "source": []
  }
 ],
 "metadata": {
  "kernelspec": {
   "display_name": "Python 3 (ipykernel)",
   "language": "python",
   "name": "python3"
  },
  "language_info": {
   "codemirror_mode": {
    "name": "ipython",
    "version": 3
   },
   "file_extension": ".py",
   "mimetype": "text/x-python",
   "name": "python",
   "nbconvert_exporter": "python",
   "pygments_lexer": "ipython3",
   "version": "3.7.3"
  }
 },
 "nbformat": 4,
 "nbformat_minor": 5
}
