{
 "cells": [
  {
   "cell_type": "code",
   "execution_count": 4,
   "id": "83c8bb26",
   "metadata": {},
   "outputs": [
    {
     "name": "stdout",
     "output_type": "stream",
     "text": [
      "<class 'pandas.core.frame.DataFrame'>\n",
      "    name  age  mark\n",
      "0    tom   21    56\n",
      "1    pat   21    93\n",
      "2    sam   20    85\n",
      "3    joe   20    67\n",
      "4    raj   21    71\n",
      "5    bob   20    79\n",
      "6  alice   20    62\n"
     ]
    }
   ],
   "source": [
    "# classification of dataset using 'cut' method\n",
    "\n",
    "import pandas as pd\n",
    "\n",
    "d1 = {\n",
    "    'name': ['tom','pat','sam','joe','raj','bob','alice'],\n",
    "    'age': [21,21,20,20,21,20,20],\n",
    "    'mark': [56,93,85,67,71,79,62]\n",
    "}\n",
    "\n",
    "df = pd.DataFrame(d1)\n",
    "\n",
    "print(type(df))\n",
    "\n",
    "print(df)"
   ]
  },
  {
   "cell_type": "code",
   "execution_count": 3,
   "id": "aada3818",
   "metadata": {},
   "outputs": [
    {
     "name": "stdout",
     "output_type": "stream",
     "text": [
      "    name  age  mark grade\n",
      "0    tom   21    56     D\n",
      "1    pat   21    93     A\n",
      "2    sam   20    85     B\n",
      "3    joe   20    67     C\n",
      "4    raj   21    71     C\n",
      "5    bob   20    79     B\n",
      "6  alice   20    62     C\n"
     ]
    }
   ],
   "source": [
    "# cut - takes 2 arguments i.e., series,range,labels\n",
    "\n",
    "df['grade'] = pd.cut(df['mark'],bins=[50,60,75,90,100],labels=['D','C','B','A'])\n",
    "\n",
    "print(df)"
   ]
  },
  {
   "cell_type": "code",
   "execution_count": 5,
   "id": "da9de22e",
   "metadata": {},
   "outputs": [
    {
     "name": "stdout",
     "output_type": "stream",
     "text": [
      "0      tom\n",
      "1      pat\n",
      "2      sam\n",
      "3      joe\n",
      "4      raj\n",
      "5      bob\n",
      "6    alice\n",
      "Name: name, dtype: object\n"
     ]
    }
   ],
   "source": [
    "print(df['name'])"
   ]
  },
  {
   "cell_type": "code",
   "execution_count": null,
   "id": "2b968dfd",
   "metadata": {},
   "outputs": [],
   "source": []
  }
 ],
 "metadata": {
  "kernelspec": {
   "display_name": "Python 3 (ipykernel)",
   "language": "python",
   "name": "python3"
  },
  "language_info": {
   "codemirror_mode": {
    "name": "ipython",
    "version": 3
   },
   "file_extension": ".py",
   "mimetype": "text/x-python",
   "name": "python",
   "nbconvert_exporter": "python",
   "pygments_lexer": "ipython3",
   "version": "3.7.3"
  }
 },
 "nbformat": 4,
 "nbformat_minor": 5
}
