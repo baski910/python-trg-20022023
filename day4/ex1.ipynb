{
 "cells": [
  {
   "cell_type": "code",
   "execution_count": 1,
   "id": "ca1a8307",
   "metadata": {},
   "outputs": [
    {
     "name": "stdout",
     "output_type": "stream",
     "text": [
      "   index            date  duration  item    month   network network_type\n",
      "0      0  15/10/14 06:58    34.429  data  2014-11      data         data\n",
      "1      1  15/10/14 06:58    13.000  call  2014-11  Vodafone       mobile\n",
      "2      2  15/10/14 14:46    23.000  call  2014-11    Meteor       mobile\n",
      "3      3  15/10/14 14:48     4.000  call  2014-11     Tesco       mobile\n",
      "4      4  15/10/14 17:27     4.000  call  2014-11     Tesco       mobile\n",
      "   index                date  duration  item    month   network network_type\n",
      "0      0 2014-10-15 06:58:00    34.429  data  2014-11      data         data\n",
      "1      1 2014-10-15 06:58:00    13.000  call  2014-11  Vodafone       mobile\n",
      "2      2 2014-10-15 14:46:00    23.000  call  2014-11    Meteor       mobile\n",
      "3      3 2014-10-15 14:48:00     4.000  call  2014-11     Tesco       mobile\n",
      "4      4 2014-10-15 17:27:00     4.000  call  2014-11     Tesco       mobile\n"
     ]
    }
   ],
   "source": [
    "# applying aggregate functions\n",
    "import pandas as pd\n",
    "import dateutil as du\n",
    "df=pd.read_csv('phone_data.csv')\n",
    "\n",
    "print(df.head())\n",
    "\n",
    "df['date']=df['date'].apply(du.parser.parse)\n",
    "\n",
    "print(df.head())"
   ]
  },
  {
   "cell_type": "code",
   "execution_count": 2,
   "id": "e6c1460e",
   "metadata": {},
   "outputs": [
    {
     "name": "stdout",
     "output_type": "stream",
     "text": [
      "92321.0\n"
     ]
    }
   ],
   "source": [
    "# sum of duration whre item is equal to 'call'\n",
    "\n",
    "print(df.loc[df['item']=='call']['duration'].sum())"
   ]
  },
  {
   "cell_type": "code",
   "execution_count": 3,
   "id": "c0a1dcae",
   "metadata": {},
   "outputs": [
    {
     "name": "stdout",
     "output_type": "stream",
     "text": [
      "item\n",
      "call    92321.00\n",
      "data     5164.35\n",
      "sms       292.00\n",
      "Name: duration, dtype: float64\n"
     ]
    }
   ],
   "source": [
    "# groupby on column 'item'\n",
    "print(df.groupby(['item'])['duration'].aggregate(sum))"
   ]
  },
  {
   "cell_type": "code",
   "execution_count": 4,
   "id": "db6ed9cc",
   "metadata": {},
   "outputs": [
    {
     "name": "stdout",
     "output_type": "stream",
     "text": [
      "count      830.000000\n",
      "mean       117.804036\n",
      "std        444.129560\n",
      "min          1.000000\n",
      "25%          1.000000\n",
      "50%         24.500000\n",
      "75%         55.000000\n",
      "max      10528.000000\n",
      "Name: duration, dtype: float64\n"
     ]
    }
   ],
   "source": [
    "# get statistical information on column 'duration'\n",
    "print(df['duration'].describe())"
   ]
  },
  {
   "cell_type": "code",
   "execution_count": 8,
   "id": "861363c4",
   "metadata": {},
   "outputs": [
    {
     "name": "stdout",
     "output_type": "stream",
     "text": [
      "          duration             network_type\n",
      "               sum        mean        count\n",
      "month                                      \n",
      "2014-11  26639.441  115.823657          230\n",
      "2014-12  14641.870   93.260318          157\n",
      "2015-01  18223.299   88.894141          205\n",
      "2015-02  15522.299  113.301453          137\n",
      "2015-03  22750.441  225.251891          101\n"
     ]
    }
   ],
   "source": [
    "# function mean from numpy module is used for getting average\n",
    "import numpy as np\n",
    "\n",
    "print(df.groupby(['month']).aggregate({'duration': [sum,np.mean],'network_type':['count']}))"
   ]
  },
  {
   "cell_type": "code",
   "execution_count": null,
   "id": "98cffe1c",
   "metadata": {},
   "outputs": [],
   "source": []
  }
 ],
 "metadata": {
  "kernelspec": {
   "display_name": "Python 3 (ipykernel)",
   "language": "python",
   "name": "python3"
  },
  "language_info": {
   "codemirror_mode": {
    "name": "ipython",
    "version": 3
   },
   "file_extension": ".py",
   "mimetype": "text/x-python",
   "name": "python",
   "nbconvert_exporter": "python",
   "pygments_lexer": "ipython3",
   "version": "3.7.3"
  }
 },
 "nbformat": 4,
 "nbformat_minor": 5
}
