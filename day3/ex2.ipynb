{
 "cells": [
  {
   "cell_type": "code",
   "execution_count": 1,
   "id": "2b021ed9",
   "metadata": {},
   "outputs": [
    {
     "name": "stdout",
     "output_type": "stream",
     "text": [
      "instance attributes: 18 23\n",
      "this is an instance method\n",
      "instance attributes: 21 32\n",
      "this is an instance method\n"
     ]
    }
   ],
   "source": [
    "\"\"\"Creating constructors with parameters\"\"\"\n",
    "\n",
    "# functions declared inside a class are called methods\n",
    "# the first parameter to methods are assigned with the object reference\n",
    "class Point:\n",
    "    \"\"\"this is an example class\"\"\"\n",
    "    def __init__(self,xval,yval):\n",
    "        self.x = xval # variables created with object reference are called instance attributes\n",
    "        self.y = yval # variables created with object reference are called instance attributes\n",
    "        \n",
    "    # example for instance method (bound method)\n",
    "    def showValues(self):\n",
    "        # display instance attributes\n",
    "        print(\"instance attributes:\",self.x,self.y)\n",
    "        print(\"this is an instance method\")\n",
    "        \n",
    "if __name__ == '__main__':\n",
    "    p1 = Point(18,23)\n",
    "    # call the object method\n",
    "    p1.showValues()\n",
    "    \n",
    "    p2 = Point(21,32)\n",
    "    p2.showValues()"
   ]
  },
  {
   "cell_type": "code",
   "execution_count": 2,
   "id": "9a6a622f",
   "metadata": {},
   "outputs": [
    {
     "name": "stdout",
     "output_type": "stream",
     "text": [
      "instance attributes: 18 23\n",
      "this is an instance method\n",
      "Number of points 1\n",
      "instance attributes: 21 32\n",
      "this is an instance method\n",
      "Number of points 2\n"
     ]
    }
   ],
   "source": [
    "\"\"\"Creating class level parameter\"\"\"\n",
    "\n",
    "# functions declared inside a class are called methods\n",
    "# the first parameter to methods are assigned with the object reference\n",
    "class Point:\n",
    "    num_of_points = 0\n",
    "    def __init__(self,xval,yval):\n",
    "        self.x = xval # variables created with object reference are called instance attributes\n",
    "        self.y = yval # variables created with object reference are called instance attributes\n",
    "        Point.num_of_points += 1\n",
    "    # example for instance method (bound method)\n",
    "    def showValues(self):\n",
    "        # display instance attributes\n",
    "        print(\"instance attributes:\",self.x,self.y)\n",
    "        print(\"this is an instance method\")\n",
    "        \n",
    "    def showCount(self):\n",
    "        print(\"Number of points {}:\".format(Point.num_of_points))\n",
    "        \n",
    "if __name__ == '__main__':\n",
    "    p1 = Point(18,23)\n",
    "    p1.showValues()\n",
    "    # display class level variable\n",
    "    p1.showCount()\n",
    "    \n",
    "    p2 = Point(21,32)\n",
    "    p2.showValues()\n",
    "    p2.showCount()"
   ]
  },
  {
   "cell_type": "code",
   "execution_count": 6,
   "id": "d86bd29d",
   "metadata": {},
   "outputs": [
    {
     "name": "stdout",
     "output_type": "stream",
     "text": [
      "Point destroyed\n",
      "Point destroyed\n"
     ]
    }
   ],
   "source": [
    "\"\"\"Creating destructors\"\"\"\n",
    "\n",
    "# functions declared inside a class are called methods\n",
    "# the first parameter to methods are assigned with the object reference\n",
    "class Point:\n",
    "    \"\"\"this is an example class\"\"\"\n",
    "    def __init__(self,xval,yval):\n",
    "        self.x = xval # variables created with object reference are called instance attributes\n",
    "        self.y = yval # variables created with object reference are called instance attributes\n",
    "    \n",
    "    def __del__(self): # destructor automatically called while removing the object\n",
    "        print(\"Point destroyed\")\n",
    "\n",
    "\n",
    "if __name__ == '__main__':\n",
    "    p1 = Point(18,23)\n",
    "    p2 = Point(21,32)\n",
    "    \n",
    "    "
   ]
  },
  {
   "cell_type": "code",
   "execution_count": 10,
   "id": "4fb4063f",
   "metadata": {},
   "outputs": [
    {
     "name": "stdout",
     "output_type": "stream",
     "text": [
      "x-val:18,y-val:23\n",
      "x-val:21,y-val:32\n"
     ]
    }
   ],
   "source": [
    "\"\"\"magic function __repr__\"\"\"\n",
    "\n",
    "# functions declared inside a class are called methods\n",
    "# the first parameter to methods are assigned with the object reference\n",
    "class Point:\n",
    "    \"\"\"this is an example class\"\"\"\n",
    "    def __init__(self,xval,yval):\n",
    "        self.x = xval # variables created with object reference are called instance attributes\n",
    "        self.y = yval # variables created with object reference are called instance attributes\n",
    "    \n",
    "    def __repr__(self): # magic called while printing the object\n",
    "        return \"x-val:{},y-val:{}\".format(self.x,self.y)\n",
    "\n",
    "\n",
    "if __name__ == '__main__':\n",
    "    p1 = Point(18,23)\n",
    "    print(p1)\n",
    "    p2 = Point(21,32)\n",
    "    print(p2)"
   ]
  },
  {
   "cell_type": "code",
   "execution_count": null,
   "id": "62cef5a9",
   "metadata": {},
   "outputs": [],
   "source": []
  }
 ],
 "metadata": {
  "kernelspec": {
   "display_name": "Python 3 (ipykernel)",
   "language": "python",
   "name": "python3"
  },
  "language_info": {
   "codemirror_mode": {
    "name": "ipython",
    "version": 3
   },
   "file_extension": ".py",
   "mimetype": "text/x-python",
   "name": "python",
   "nbconvert_exporter": "python",
   "pygments_lexer": "ipython3",
   "version": "3.7.3"
  }
 },
 "nbformat": 4,
 "nbformat_minor": 5
}
