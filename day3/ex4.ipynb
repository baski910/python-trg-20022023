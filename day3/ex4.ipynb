{
 "cells": [
  {
   "cell_type": "code",
   "execution_count": 5,
   "id": "060d4e6b",
   "metadata": {},
   "outputs": [
    {
     "name": "stdout",
     "output_type": "stream",
     "text": [
      "                            \n",
      "\n",
      "\n",
      "\n",
      "\n",
      "\n",
      "\n",
      "\n",
      "\n",
      "\n",
      "\n",
      "\n",
      "\n",
      "\n",
      "\n",
      "\n",
      "\n",
      "\n",
      "\n",
      "\n",
      "\n",
      "\n",
      "\n",
      "\n",
      "\n",
      "\n",
      "\n",
      "\n",
      "\n",
      "\n",
      "\n",
      "\n",
      "Number of blank lines:16\n"
     ]
    }
   ],
   "source": [
    "######################################################\n",
    "# regular expression - user defined expression to match\n",
    "#                      extract from the given input\n",
    "# metacharacters - . * + ? {} () [] \\w \\d \\b ^ $\n",
    "#\n",
    "# re - module used to work with regular expression\n",
    "# \n",
    "# match - takes 3 arguments. 3rd argument is optional\n",
    "#         1st param - regular expression\n",
    "#         2nd param - string to be matched\n",
    "#         3rd param - flags\n",
    "#         matches a single line.\n",
    "#         return match object on success or False on failure\n",
    "#\n",
    "# search - takes 3 arguments. 3rd argument is optional\n",
    "#         1st param - regular expression\n",
    "#         2nd param - string to be matched\n",
    "#         3rd param - flags\n",
    "#         matches a against multiple lines\n",
    "#         return search object on success or False on failure\n",
    "########################################################\n",
    "\n",
    "import re\n",
    "\n",
    "fh = open('readme.txt','r')\n",
    "\n",
    "num = 0\n",
    "\n",
    "for line in fh.readlines():\n",
    "    sobj = re.search(r'^\\s*$',line)\n",
    "    # ^\\s*$ - matches an empty line\n",
    "    # ^ - search at the beginning\n",
    "    # \\s - whitespace\n",
    "    # *  - quantifier (zero or more times)\n",
    "    # $ - end of the string\n",
    "    if sobj:\n",
    "        print(line)\n",
    "        num += 1\n",
    "        \n",
    "fh.close()\n",
    "print(f\"Number of blank lines:{num}\") "
   ]
  },
  {
   "cell_type": "code",
   "execution_count": null,
   "id": "becf69ba",
   "metadata": {},
   "outputs": [],
   "source": []
  }
 ],
 "metadata": {
  "kernelspec": {
   "display_name": "Python 3 (ipykernel)",
   "language": "python",
   "name": "python3"
  },
  "language_info": {
   "codemirror_mode": {
    "name": "ipython",
    "version": 3
   },
   "file_extension": ".py",
   "mimetype": "text/x-python",
   "name": "python",
   "nbconvert_exporter": "python",
   "pygments_lexer": "ipython3",
   "version": "3.7.3"
  }
 },
 "nbformat": 4,
 "nbformat_minor": 5
}
