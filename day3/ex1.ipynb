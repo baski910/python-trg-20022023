{
 "cells": [
  {
   "cell_type": "code",
   "execution_count": 2,
   "id": "5f3ceba7",
   "metadata": {},
   "outputs": [
    {
     "ename": "AttributeError",
     "evalue": "'Point' object has no attribute 'x'",
     "output_type": "error",
     "traceback": [
      "\u001b[0;31m---------------------------------------------------------------------------\u001b[0m",
      "\u001b[0;31mAttributeError\u001b[0m                            Traceback (most recent call last)",
      "\u001b[0;32m/tmp/ipykernel_5102/3215911608.py\u001b[0m in \u001b[0;36m<module>\u001b[0;34m\u001b[0m\n\u001b[1;32m     20\u001b[0m     \u001b[0;31m# call the object method\u001b[0m\u001b[0;34m\u001b[0m\u001b[0;34m\u001b[0m\u001b[0;34m\u001b[0m\u001b[0m\n\u001b[1;32m     21\u001b[0m     \u001b[0;31m#p1.showValues(10,50)\u001b[0m\u001b[0;34m\u001b[0m\u001b[0;34m\u001b[0m\u001b[0;34m\u001b[0m\u001b[0m\n\u001b[0;32m---> 22\u001b[0;31m     \u001b[0mp1\u001b[0m\u001b[0;34m.\u001b[0m\u001b[0manotherMethod\u001b[0m\u001b[0;34m(\u001b[0m\u001b[0;34m)\u001b[0m\u001b[0;34m\u001b[0m\u001b[0;34m\u001b[0m\u001b[0m\n\u001b[0m",
      "\u001b[0;32m/tmp/ipykernel_5102/3215911608.py\u001b[0m in \u001b[0;36manotherMethod\u001b[0;34m(self)\u001b[0m\n\u001b[1;32m     14\u001b[0m \u001b[0;34m\u001b[0m\u001b[0m\n\u001b[1;32m     15\u001b[0m     \u001b[0;32mdef\u001b[0m \u001b[0manotherMethod\u001b[0m\u001b[0;34m(\u001b[0m\u001b[0mself\u001b[0m\u001b[0;34m)\u001b[0m\u001b[0;34m:\u001b[0m\u001b[0;34m\u001b[0m\u001b[0;34m\u001b[0m\u001b[0m\n\u001b[0;32m---> 16\u001b[0;31m         \u001b[0mprint\u001b[0m\u001b[0;34m(\u001b[0m\u001b[0;34m\"instance attributes from another method:\"\u001b[0m\u001b[0;34m,\u001b[0m\u001b[0mself\u001b[0m\u001b[0;34m.\u001b[0m\u001b[0mx\u001b[0m\u001b[0;34m,\u001b[0m\u001b[0mself\u001b[0m\u001b[0;34m.\u001b[0m\u001b[0my\u001b[0m\u001b[0;34m)\u001b[0m\u001b[0;34m\u001b[0m\u001b[0;34m\u001b[0m\u001b[0m\n\u001b[0m\u001b[1;32m     17\u001b[0m \u001b[0;34m\u001b[0m\u001b[0m\n\u001b[1;32m     18\u001b[0m \u001b[0;32mif\u001b[0m \u001b[0m__name__\u001b[0m \u001b[0;34m==\u001b[0m \u001b[0;34m'__main__'\u001b[0m\u001b[0;34m:\u001b[0m\u001b[0;34m\u001b[0m\u001b[0;34m\u001b[0m\u001b[0m\n",
      "\u001b[0;31mAttributeError\u001b[0m: 'Point' object has no attribute 'x'"
     ]
    }
   ],
   "source": [
    "# creating instance attributes in class methods\n",
    "\"\"\"Creating instance attributes\"\"\"\n",
    "\n",
    "# functions declared inside a class are called methods\n",
    "# the first parameter to methods are assigned with the object reference\n",
    "class Point:\n",
    "    \"\"\"this is an example class\"\"\"\n",
    "    # example for instance method (bound method)\n",
    "    def showValues(self,x1,y1):\n",
    "        self.x = x1\n",
    "        self.y = y1\n",
    "        print(\"instance attributes:\",self.x,self.y)\n",
    "        print(\"this is an instance method\")\n",
    "    \n",
    "    def anotherMethod(self):\n",
    "        print(\"instance attributes from another method:\",self.x,self.y)\n",
    "\n",
    "if __name__ == '__main__':\n",
    "    p1 = Point()\n",
    "    # call the object method\n",
    "    p1.showValues(10,50)\n",
    "    p1.anotherMethod()"
   ]
  },
  {
   "cell_type": "code",
   "execution_count": 3,
   "id": "12c64c09",
   "metadata": {},
   "outputs": [
    {
     "name": "stdout",
     "output_type": "stream",
     "text": [
      "instance attributes: 10 20\n",
      "this is an instance method\n"
     ]
    }
   ],
   "source": [
    "\"\"\"Creating constructors\"\"\"\n",
    "\n",
    "# functions declared inside a class are called methods\n",
    "# the first parameter to methods are assigned with the object reference\n",
    "class Point:\n",
    "    \"\"\"this is an example class\"\"\"\n",
    "    def __init__(self):\n",
    "        self.x = 10 # variables created with object reference are called instance attributes\n",
    "        self.y = 20 # variables created with object reference are called instance attributes\n",
    "        \n",
    "    # example for instance method (bound method)\n",
    "    def showValues(self):\n",
    "        # display instance attributes\n",
    "        print(\"instance attributes:\",self.x,self.y)\n",
    "        print(\"this is an instance method\")\n",
    "\n",
    "if __name__ == '__main__':\n",
    "    p1 = Point()\n",
    "    # call the object method\n",
    "    p1.showValues()"
   ]
  },
  {
   "cell_type": "code",
   "execution_count": null,
   "id": "b54c7bff",
   "metadata": {},
   "outputs": [],
   "source": []
  }
 ],
 "metadata": {
  "kernelspec": {
   "display_name": "Python 3 (ipykernel)",
   "language": "python",
   "name": "python3"
  },
  "language_info": {
   "codemirror_mode": {
    "name": "ipython",
    "version": 3
   },
   "file_extension": ".py",
   "mimetype": "text/x-python",
   "name": "python",
   "nbconvert_exporter": "python",
   "pygments_lexer": "ipython3",
   "version": "3.7.3"
  }
 },
 "nbformat": 4,
 "nbformat_minor": 5
}
