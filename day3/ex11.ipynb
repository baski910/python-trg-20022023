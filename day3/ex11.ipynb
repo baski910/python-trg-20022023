{
 "cells": [
  {
   "cell_type": "code",
   "execution_count": 3,
   "id": "6bb9ecb7",
   "metadata": {},
   "outputs": [
    {
     "name": "stdout",
     "output_type": "stream",
     "text": [
      "Enter a numberhello\n",
      "error in converting to integer\n",
      "script continues here ...\n"
     ]
    }
   ],
   "source": [
    "#An exception is an event, which occurs during the execution of a program, \n",
    "#that disrupts the normal flow of the program's instructions. \n",
    "#In general, when a Python script encounters a situation that it can't cope with, \n",
    "#it raises an exception. An exception is a Python object that represents an error.\n",
    "\n",
    "#Run Time Error\n",
    "#Raised when an error is detected that doesn’t fall in any of the other categories. \n",
    "#The associated value is a string indicating what precisely went wrong.\n",
    "\n",
    "# try:\n",
    "#     TODO\n",
    "# except ErrorClass:\n",
    "#     TODO\n",
    "# else:\n",
    "#     TODO - executed only when try succeeds\n",
    "# finally:\n",
    "#     TODO - executed always\n",
    "\n",
    "try:\n",
    "    num = int(input(\"Enter a number\"))\n",
    "    print(num)\n",
    "except:\n",
    "    print(\"error in converting to integer\")\n",
    "    \n",
    "print(\"script continues here ...\")"
   ]
  },
  {
   "cell_type": "code",
   "execution_count": 5,
   "id": "b7b1188e",
   "metadata": {},
   "outputs": [
    {
     "name": "stdout",
     "output_type": "stream",
     "text": [
      "Enter a numberworld\n",
      "error in converting to integer (<class 'ValueError'>, ValueError(\"invalid literal for int() with base 10: 'world'\"), <traceback object at 0x7f98c8500dc8>)\n",
      "script continues here ...\n"
     ]
    }
   ],
   "source": [
    "# get the type of error using sys.exc_info\n",
    "import sys\n",
    "\n",
    "try:\n",
    "    num = int(input(\"Enter a number\"))\n",
    "    print(num)\n",
    "except ValueError:\n",
    "    print(\"error in converting to integer\",sys.exc_info())\n",
    "    \n",
    "print(\"script continues here ...\")"
   ]
  },
  {
   "cell_type": "code",
   "execution_count": 11,
   "id": "6efcce0a",
   "metadata": {},
   "outputs": [
    {
     "name": "stdout",
     "output_type": "stream",
     "text": [
      "error in converting to integer\n"
     ]
    }
   ],
   "source": [
    "# try block followed by multiple except block\n",
    "# try can be followed else block. else will be executed only when try succeeds\n",
    "import sys\n",
    "\n",
    "try:\n",
    "    fh = open('myfile.txt','r')\n",
    "    s1 = fh.readline().strip()\n",
    "    num = int(s1)\n",
    "    #print(num)\n",
    "except IOError as e:\n",
    "    print(e.errno,e.strerror)\n",
    "except ValueError:\n",
    "    print(\"error in converting to integer\")\n",
    "except:\n",
    "    print(\"some unknown error\",sys.exc_info())\n",
    "else:\n",
    "    print(num)\n",
    "    print(\"executed only when try succeeds\")"
   ]
  },
  {
   "cell_type": "code",
   "execution_count": 13,
   "id": "59d4125a",
   "metadata": {},
   "outputs": [
    {
     "name": "stdout",
     "output_type": "stream",
     "text": [
      "negative value not accepted\n"
     ]
    }
   ],
   "source": [
    "# raise - raise custom exeception. delegate the responsibility of error handling \n",
    "#         to calling function\n",
    "\n",
    "def calculateinterest(p,n,r):\n",
    "    if r<0:\n",
    "        raise ValueError\n",
    "    if n<0:\n",
    "        raise ValueError\n",
    "    return p*n*r/100\n",
    "\n",
    "try:\n",
    "    tot = calculateinterest(1000,-2,8)\n",
    "except ValueError:\n",
    "    print(\"negative value not accepted\")"
   ]
  },
  {
   "cell_type": "code",
   "execution_count": 16,
   "id": "93ea5181",
   "metadata": {},
   "outputs": [
    {
     "name": "stdout",
     "output_type": "stream",
     "text": [
      "Rate of int negative\n"
     ]
    }
   ],
   "source": [
    "# custom exception class is created by using Exception as base class\n",
    "class CustomError(Exception):\n",
    "    def __init__(self,msg):\n",
    "        self.msg = msg\n",
    "    \n",
    "    def __repr__(self):\n",
    "        return self.msg\n",
    "    \n",
    "def calculateinterest(p,n,r):\n",
    "    if r<0:\n",
    "        raise CustomError(\"Rate of int negative\")\n",
    "    if n<0:\n",
    "        raise CustomError(\"No of years negative\")\n",
    "    return p*n*r/100\n",
    "\n",
    "try:\n",
    "    tot = calculateinterest(1000,2,-8)\n",
    "except CustomError as e:\n",
    "    print(e)"
   ]
  },
  {
   "cell_type": "code",
   "execution_count": null,
   "id": "7f1a997a",
   "metadata": {},
   "outputs": [],
   "source": []
  }
 ],
 "metadata": {
  "kernelspec": {
   "display_name": "Python 3 (ipykernel)",
   "language": "python",
   "name": "python3"
  },
  "language_info": {
   "codemirror_mode": {
    "name": "ipython",
    "version": 3
   },
   "file_extension": ".py",
   "mimetype": "text/x-python",
   "name": "python",
   "nbconvert_exporter": "python",
   "pygments_lexer": "ipython3",
   "version": "3.7.3"
  }
 },
 "nbformat": 4,
 "nbformat_minor": 5
}
