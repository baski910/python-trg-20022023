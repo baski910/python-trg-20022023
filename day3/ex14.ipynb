{
 "cells": [
  {
   "cell_type": "code",
   "execution_count": 1,
   "id": "3f185b58",
   "metadata": {},
   "outputs": [
    {
     "name": "stdout",
     "output_type": "stream",
     "text": [
      "<class 'dict'>\n",
      "<class 'str'>\n",
      "{\"name\": \"bob\", \"age\": 7, \"class\": \"second\"}\n"
     ]
    }
   ],
   "source": [
    "# dumps - returns json string from a dictionary\n",
    "# loads - returns dictionary from a json string\n",
    "\n",
    "import json\n",
    "\n",
    "d1 = {\"name\":\"bob\",\"age\":7,\"class\":\"second\"}\n",
    "\n",
    "print(type(d1))\n",
    "\n",
    "s1 = json.dumps(d1)\n",
    "\n",
    "print(type(s1))\n",
    "print(s1)"
   ]
  },
  {
   "cell_type": "code",
   "execution_count": 3,
   "id": "380ceace",
   "metadata": {},
   "outputs": [
    {
     "name": "stdout",
     "output_type": "stream",
     "text": [
      "<class 'str'>\n",
      "<class 'dict'>\n",
      "{'name': 'bob', 'age': 7, 'class': 'second'}\n"
     ]
    }
   ],
   "source": [
    "s2 = '{\"name\":\"bob\",\"age\":7,\"class\":\"second\"}'\n",
    "\n",
    "print(type(s2))\n",
    "\n",
    "d2 = json.loads(s2)\n",
    "\n",
    "print(type(d2))\n",
    "print(d2)"
   ]
  },
  {
   "cell_type": "code",
   "execution_count": null,
   "id": "1dd85fb7",
   "metadata": {},
   "outputs": [],
   "source": []
  }
 ],
 "metadata": {
  "kernelspec": {
   "display_name": "Python 3 (ipykernel)",
   "language": "python",
   "name": "python3"
  },
  "language_info": {
   "codemirror_mode": {
    "name": "ipython",
    "version": 3
   },
   "file_extension": ".py",
   "mimetype": "text/x-python",
   "name": "python",
   "nbconvert_exporter": "python",
   "pygments_lexer": "ipython3",
   "version": "3.7.3"
  }
 },
 "nbformat": 4,
 "nbformat_minor": 5
}
