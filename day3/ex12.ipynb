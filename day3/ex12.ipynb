{
 "cells": [
  {
   "cell_type": "code",
   "execution_count": 3,
   "id": "60e8514a",
   "metadata": {},
   "outputs": [
    {
     "name": "stdout",
     "output_type": "stream",
     "text": [
      "hello\n",
      "hello\n",
      "hello\n",
      "hello\n",
      "hello\n",
      "will always be executed\n"
     ]
    }
   ],
   "source": [
    "#finally will alway be executed\n",
    "import time\n",
    "\n",
    "try:\n",
    "    count = 0\n",
    "    while True:\n",
    "        count += 1\n",
    "        print(\"hello\")\n",
    "        if count == 5:\n",
    "            break\n",
    "        else:\n",
    "            time.sleep(2) # block 2 seconds\n",
    "except KeyboardInterrupt:\n",
    "    print(\"ctrl and c is pressed\")\n",
    "finally:\n",
    "    print(\"will always be executed\")\n"
   ]
  },
  {
   "cell_type": "code",
   "execution_count": null,
   "id": "c71eba4c",
   "metadata": {},
   "outputs": [],
   "source": []
  }
 ],
 "metadata": {
  "kernelspec": {
   "display_name": "Python 3 (ipykernel)",
   "language": "python",
   "name": "python3"
  },
  "language_info": {
   "codemirror_mode": {
    "name": "ipython",
    "version": 3
   },
   "file_extension": ".py",
   "mimetype": "text/x-python",
   "name": "python",
   "nbconvert_exporter": "python",
   "pygments_lexer": "ipython3",
   "version": "3.7.3"
  }
 },
 "nbformat": 4,
 "nbformat_minor": 5
}
