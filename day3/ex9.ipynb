{
 "cells": [
  {
   "cell_type": "code",
   "execution_count": 2,
   "id": "6591f11a",
   "metadata": {},
   "outputs": [
    {
     "name": "stdout",
     "output_type": "stream",
     "text": [
      "223415678\n",
      "418735106\n",
      "8942651087\n"
     ]
    }
   ],
   "source": [
    "# \\d to extract/match digits\n",
    "import re\n",
    "\n",
    "fh = open('numbers.txt','r')\n",
    "\n",
    "for line in fh.readlines():\n",
    "    sobj = re.search(r'.*#(\\d+)',line)\n",
    "    if sobj:\n",
    "        print(sobj.group(1))\n",
    "    else:\n",
    "        print(\"line has no digits\")\n",
    "        \n",
    "fh.close()\n",
    "    "
   ]
  },
  {
   "cell_type": "code",
   "execution_count": null,
   "id": "b0694a79",
   "metadata": {},
   "outputs": [],
   "source": []
  }
 ],
 "metadata": {
  "kernelspec": {
   "display_name": "Python 3 (ipykernel)",
   "language": "python",
   "name": "python3"
  },
  "language_info": {
   "codemirror_mode": {
    "name": "ipython",
    "version": 3
   },
   "file_extension": ".py",
   "mimetype": "text/x-python",
   "name": "python",
   "nbconvert_exporter": "python",
   "pygments_lexer": "ipython3",
   "version": "3.7.3"
  }
 },
 "nbformat": 4,
 "nbformat_minor": 5
}
