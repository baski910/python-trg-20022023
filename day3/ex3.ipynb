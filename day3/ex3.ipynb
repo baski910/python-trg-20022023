{
 "cells": [
  {
   "cell_type": "code",
   "execution_count": 1,
   "id": "5986d263",
   "metadata": {},
   "outputs": [],
   "source": [
    "# inheritance\n",
    "#  Single                        Multilevel                   Multiple\n",
    "#\n",
    "#\n",
    "#\n",
    "#    A                              A                       A                C\n",
    "#\n",
    "#    B (has A as parent)            B (has A as parent)          B (has both A & C as parent) \n",
    "#\n",
    "#\n",
    "#\n",
    "#                                   C (has B as parent)"
   ]
  },
  {
   "cell_type": "code",
   "execution_count": 2,
   "id": "dd30292c",
   "metadata": {},
   "outputs": [
    {
     "name": "stdout",
     "output_type": "stream",
     "text": [
      "from A\n"
     ]
    }
   ],
   "source": [
    "class A:\n",
    "    def printString(self):\n",
    "        print(\"from A\")\n",
    "        \n",
    "class B(A): # A is the parent of B\n",
    "    #pass # valid statement but takes no action\n",
    "\n",
    "if __name__ == '__main__':\n",
    "    obj = B()\n",
    "    obj.printString()"
   ]
  },
  {
   "cell_type": "code",
   "execution_count": 3,
   "id": "07fcc248",
   "metadata": {},
   "outputs": [
    {
     "name": "stdout",
     "output_type": "stream",
     "text": [
      "from A\n",
      "from B\n"
     ]
    }
   ],
   "source": [
    "class A:\n",
    "    def printString(self):\n",
    "        print(\"from A\")\n",
    "        \n",
    "class B(A): # A is the parent of B\n",
    "    #pass # valid statement but takes no action\n",
    "    def displayString(self):\n",
    "        print(\"from B\")\n",
    "\n",
    "if __name__ == '__main__':\n",
    "    obj = B()\n",
    "    obj.printString()\n",
    "    obj.displayString()"
   ]
  },
  {
   "cell_type": "code",
   "execution_count": 7,
   "id": "8b06e876",
   "metadata": {},
   "outputs": [
    {
     "name": "stdout",
     "output_type": "stream",
     "text": [
      "from A\n",
      "from B\n",
      "(<class '__main__.B'>, <class '__main__.A'>, <class 'object'>)\n"
     ]
    }
   ],
   "source": [
    "# method overriding - derived class implementing parent class function\n",
    "\n",
    "class A:\n",
    "    def printString(self):\n",
    "        print(\"from A\")\n",
    "        \n",
    "class B(A): # A is the parent of B\n",
    "    pass # valid statement but takes no action\n",
    "    def printString(self): # this method overrides parent class method\n",
    "        super().printString() # calling the parent class version\n",
    "        print(\"from B\")\n",
    "\n",
    "if __name__ == '__main__':\n",
    "    obj = B()\n",
    "    obj.printString() \n",
    "    #obj.displayString()\n",
    "    print(B.__mro__)\n",
    "    "
   ]
  },
  {
   "cell_type": "code",
   "execution_count": null,
   "id": "175e8491",
   "metadata": {},
   "outputs": [],
   "source": []
  }
 ],
 "metadata": {
  "kernelspec": {
   "display_name": "Python 3 (ipykernel)",
   "language": "python",
   "name": "python3"
  },
  "language_info": {
   "codemirror_mode": {
    "name": "ipython",
    "version": 3
   },
   "file_extension": ".py",
   "mimetype": "text/x-python",
   "name": "python",
   "nbconvert_exporter": "python",
   "pygments_lexer": "ipython3",
   "version": "3.7.3"
  }
 },
 "nbformat": 4,
 "nbformat_minor": 5
}
