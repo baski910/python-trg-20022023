{
 "cells": [
  {
   "cell_type": "code",
   "execution_count": 1,
   "id": "c2c26d51",
   "metadata": {},
   "outputs": [],
   "source": [
    "# json -JavaScript Object Notation. \n",
    "#       Defacto standard for exchanging information between different applications\n",
    "\n",
    "# dump - write a dictionary as json string using a file object\n",
    "# load - return dictionary from file object with json string\n",
    "\n",
    "import json\n",
    "\n",
    "d1 = {\"name\":\"bob\",\"age\":7,\"class\":\"second\"}\n",
    "\n",
    "fh = open(\"d1.json\",\"w\")\n",
    "json.dump(d1,fh)\n",
    "fh.close()"
   ]
  },
  {
   "cell_type": "code",
   "execution_count": 2,
   "id": "d2969692",
   "metadata": {},
   "outputs": [
    {
     "name": "stdout",
     "output_type": "stream",
     "text": [
      "{'name': 'bob', 'age': 7, 'class': 'second'}\n"
     ]
    }
   ],
   "source": [
    "fh = open(\"d1.json\",\"r\")\n",
    "\n",
    "d2 = json.load(fh)\n",
    "\n",
    "print(d2)\n",
    "\n",
    "fh.close()"
   ]
  },
  {
   "cell_type": "code",
   "execution_count": null,
   "id": "84ea9057",
   "metadata": {},
   "outputs": [],
   "source": []
  }
 ],
 "metadata": {
  "kernelspec": {
   "display_name": "Python 3 (ipykernel)",
   "language": "python",
   "name": "python3"
  },
  "language_info": {
   "codemirror_mode": {
    "name": "ipython",
    "version": 3
   },
   "file_extension": ".py",
   "mimetype": "text/x-python",
   "name": "python",
   "nbconvert_exporter": "python",
   "pygments_lexer": "ipython3",
   "version": "3.7.3"
  }
 },
 "nbformat": 4,
 "nbformat_minor": 5
}
