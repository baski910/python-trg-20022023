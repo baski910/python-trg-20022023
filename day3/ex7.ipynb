{
 "cells": [
  {
   "cell_type": "code",
   "execution_count": 9,
   "id": "489fba73",
   "metadata": {},
   "outputs": [
    {
     "name": "stdout",
     "output_type": "stream",
     "text": [
      "Enter a string\n",
      "www.mydomain.co.in\n"
     ]
    },
    {
     "ename": "IndexError",
     "evalue": "no such group",
     "output_type": "error",
     "traceback": [
      "\u001b[0;31m---------------------------------------------------------------------------\u001b[0m",
      "\u001b[0;31mIndexError\u001b[0m                                Traceback (most recent call last)",
      "\u001b[0;32m/tmp/ipykernel_7598/3875905327.py\u001b[0m in \u001b[0;36m<module>\u001b[0;34m\u001b[0m\n\u001b[1;32m     18\u001b[0m \u001b[0;34m\u001b[0m\u001b[0m\n\u001b[1;32m     19\u001b[0m \u001b[0;32mif\u001b[0m \u001b[0msobj\u001b[0m\u001b[0;34m:\u001b[0m\u001b[0;34m\u001b[0m\u001b[0;34m\u001b[0m\u001b[0m\n\u001b[0;32m---> 20\u001b[0;31m     \u001b[0mprint\u001b[0m\u001b[0;34m(\u001b[0m\u001b[0msobj\u001b[0m\u001b[0;34m.\u001b[0m\u001b[0mgroup\u001b[0m\u001b[0;34m(\u001b[0m\u001b[0;36m1\u001b[0m\u001b[0;34m)\u001b[0m\u001b[0;34m)\u001b[0m \u001b[0;31m# returns characters between 2 dot\u001b[0m\u001b[0;34m\u001b[0m\u001b[0;34m\u001b[0m\u001b[0m\n\u001b[0m\u001b[1;32m     21\u001b[0m     \u001b[0;31m#print(sobj.group(2)) # returns characters after 2 dot\u001b[0m\u001b[0;34m\u001b[0m\u001b[0;34m\u001b[0m\u001b[0;34m\u001b[0m\u001b[0m\n\u001b[1;32m     22\u001b[0m \u001b[0;32melse\u001b[0m\u001b[0;34m:\u001b[0m\u001b[0;34m\u001b[0m\u001b[0;34m\u001b[0m\u001b[0m\n",
      "\u001b[0;31mIndexError\u001b[0m: no such group"
     ]
    }
   ],
   "source": [
    "######################################################\n",
    "# regular expression - user defined expression to match\n",
    "#                      extract from the given input\n",
    "# metacharacters - . * + ? {} () [] \\w \\d \\b ^ $\n",
    "#\n",
    "# re - module used to work with regular expression\n",
    "# www.mydomain.co.in - .*\\.(.*)\\..*  - co (example for greedy match)\n",
    "# www.mydomain.co.in - .*?\\.(.*?)\\..*  - co (example for non-greedy match)\n",
    "#                    .\n",
    "########################################################\n",
    "\n",
    "import re\n",
    "\n",
    "s1 = input(\"Enter a string\\n\")\n",
    "\n",
    "sobj = re.search(r'.*\\.(.*)\\..*',s1) # greedy\n",
    "#sobj = re.search(r'.*?\\.(.*?)\\.(.*)',s1) # non-greedy match\n",
    "\n",
    "if sobj:\n",
    "    print(sobj.group(1)) # returns characters between 2 dot\n",
    "    #print(sobj.group(2)) # returns characters after 2 dot\n",
    "else:\n",
    "    print(\"not matched\")"
   ]
  },
  {
   "cell_type": "code",
   "execution_count": null,
   "id": "d654a23a",
   "metadata": {},
   "outputs": [],
   "source": []
  }
 ],
 "metadata": {
  "kernelspec": {
   "display_name": "Python 3 (ipykernel)",
   "language": "python",
   "name": "python3"
  },
  "language_info": {
   "codemirror_mode": {
    "name": "ipython",
    "version": 3
   },
   "file_extension": ".py",
   "mimetype": "text/x-python",
   "name": "python",
   "nbconvert_exporter": "python",
   "pygments_lexer": "ipython3",
   "version": "3.7.3"
  }
 },
 "nbformat": 4,
 "nbformat_minor": 5
}
