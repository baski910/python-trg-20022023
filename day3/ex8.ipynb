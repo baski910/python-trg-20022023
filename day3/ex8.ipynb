{
 "cells": [
  {
   "cell_type": "code",
   "execution_count": 6,
   "id": "3b35e47c",
   "metadata": {},
   "outputs": [
    {
     "name": "stdout",
     "output_type": "stream",
     "text": [
      "Enter a string\n",
      "hello $world\n",
      "not matched\n"
     ]
    }
   ],
   "source": [
    "######################################################\n",
    "# regular expression - user defined expression to match\n",
    "#                      extract from the given input\n",
    "# metacharacters - . * + ? {} () [] \\w \\d \\b ^ $\n",
    "#\n",
    "# hello\\s[abcdefghijklmn] - hello anchor hello bat hello cat\n",
    "# hello\\s[a-n] - hello anchor hello bat hello cat\n",
    "# hello\\s[a-zA-Z0-9] - hello zeebra\n",
    "# hello\\s[\\w] i.e, \\w - a-zA-Z0-9\n",
    "#######################################################\n",
    "\n",
    "import re\n",
    "\n",
    "s1 = input(\"Enter a string\\n\")\n",
    "\n",
    "#sobj = re.search(r'hello\\s[abcdefghijklmn]',s1)\n",
    "#sobj = re.search(r'hello\\s[a-n]',s1)\n",
    "sobj = re.search(r'hello\\s[\\w]',s1) # \\w -a-zA-Z0-9\n",
    "\n",
    "if sobj:\n",
    "    print(\"matched\")\n",
    "else:\n",
    "    print(\"not matched\")"
   ]
  },
  {
   "cell_type": "code",
   "execution_count": null,
   "id": "59e44572",
   "metadata": {},
   "outputs": [],
   "source": []
  }
 ],
 "metadata": {
  "kernelspec": {
   "display_name": "Python 3 (ipykernel)",
   "language": "python",
   "name": "python3"
  },
  "language_info": {
   "codemirror_mode": {
    "name": "ipython",
    "version": 3
   },
   "file_extension": ".py",
   "mimetype": "text/x-python",
   "name": "python",
   "nbconvert_exporter": "python",
   "pygments_lexer": "ipython3",
   "version": "3.7.3"
  }
 },
 "nbformat": 4,
 "nbformat_minor": 5
}
