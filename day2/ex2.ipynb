{
 "cells": [
  {
   "cell_type": "code",
   "execution_count": 1,
   "id": "91465b4e",
   "metadata": {},
   "outputs": [
    {
     "name": "stdout",
     "output_type": "stream",
     "text": [
      "{'name': 'alice', 'age': 7, 'class': 'first'}\n"
     ]
    }
   ],
   "source": [
    "\"\"\"\n",
    "dict - takes a list as argument and converts it to dictionary. The list should conform to\n",
    "some format. Each element of the list should be a tuple/list with only 2 elements. \n",
    "The 1st element of each tuple/list will be treated as dictionary key \n",
    "and the 2nd element treated as value\n",
    "\"\"\"\n",
    "\n",
    "list1 = [('name','alice'),('age',7),('class','first')]\n",
    "\n",
    "d2 = dict(list1)\n",
    "\n",
    "print(d2)"
   ]
  },
  {
   "cell_type": "code",
   "execution_count": 3,
   "id": "1deb744b",
   "metadata": {},
   "outputs": [
    {
     "name": "stdout",
     "output_type": "stream",
     "text": [
      "[('name', 'bob'), ('age', 10), ('class', 'fifth')]\n",
      "{'name': 'bob', 'age': 10, 'class': 'fifth'}\n"
     ]
    }
   ],
   "source": [
    "list2 = ['name','age','class']\n",
    "list3 = ['bob',10,'fifth']\n",
    "\n",
    "list4 = list(zip(list2,list3))\n",
    "\n",
    "print(list4)\n",
    "\n",
    "d3 = dict(zip(list2,list3))\n",
    "\n",
    "print(d3)"
   ]
  },
  {
   "cell_type": "code",
   "execution_count": null,
   "id": "5f282597",
   "metadata": {},
   "outputs": [],
   "source": []
  }
 ],
 "metadata": {
  "kernelspec": {
   "display_name": "Python 3 (ipykernel)",
   "language": "python",
   "name": "python3"
  },
  "language_info": {
   "codemirror_mode": {
    "name": "ipython",
    "version": 3
   },
   "file_extension": ".py",
   "mimetype": "text/x-python",
   "name": "python",
   "nbconvert_exporter": "python",
   "pygments_lexer": "ipython3",
   "version": "3.7.3"
  }
 },
 "nbformat": 4,
 "nbformat_minor": 5
}
