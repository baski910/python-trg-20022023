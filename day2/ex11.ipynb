{
 "cells": [
  {
   "cell_type": "code",
   "execution_count": 1,
   "id": "c222126c",
   "metadata": {},
   "outputs": [
    {
     "name": "stdout",
     "output_type": "stream",
     "text": [
      "10\n",
      "20\n",
      "30\n",
      "40\n",
      "50\n"
     ]
    }
   ],
   "source": [
    "\"\"\"Example for iterable and iterator\"\"\"\n",
    "list1 = [10,20,30,40,50]\n",
    "\n",
    "# iterate over list\n",
    "for num in list1:\n",
    "    print(num)"
   ]
  },
  {
   "cell_type": "code",
   "execution_count": 12,
   "id": "6d2929dc",
   "metadata": {},
   "outputs": [],
   "source": [
    "# iter - Built-in function converts a list to iterator\n",
    "ia = iter(list1)\n",
    "\n",
    "while True:\n",
    "    try:\n",
    "        print(next(ia))\n",
    "    except StopIteration:\n",
    "        break\n",
    "#print(next(ia)) # print(ia.__next__())\n",
    "#print(next(ia)) # print(ia.__next__())\n",
    "#print(next(ia)) # print(ia.__next__())\n",
    "#print(next(ia)) # print(ia.__next__())\n",
    "#print(next(ia)) # print(ia.__next__())\n",
    "#print(next(ia)) # print(ia.__next__())"
   ]
  },
  {
   "cell_type": "code",
   "execution_count": 14,
   "id": "12ab70a1",
   "metadata": {},
   "outputs": [
    {
     "name": "stdout",
     "output_type": "stream",
     "text": [
      "1\n",
      "2\n",
      "3\n"
     ]
    }
   ],
   "source": [
    "def sequence_of_numbers():\n",
    "    #return 1\n",
    "    #return 2\n",
    "    #return 3\n",
    "    yield 1\n",
    "    yield 2\n",
    "    yield 3\n",
    "\n",
    "for num in sequence_of_numbers():\n",
    "    print(num)"
   ]
  },
  {
   "cell_type": "code",
   "execution_count": 20,
   "id": "6ccd8949",
   "metadata": {},
   "outputs": [
    {
     "name": "stdout",
     "output_type": "stream",
     "text": [
      "1\t2\t3\t4\t5\t6\t7\t8\t9\t10\t11\t12\t13\t14\t15\t16\t17\t18\t19\t20\t\n",
      "\n",
      "[1, 2, 3, 4, 5, 6, 7, 8, 9, 10, 11, 12, 13, 14, 15, 16, 17, 18, 19, 20]\n",
      "210\n",
      "210\n"
     ]
    }
   ],
   "source": [
    "# while True:\n",
    "#    yield fileobject.readline()\n",
    "\n",
    "def find_sum(n):\n",
    "    nums = 0\n",
    "    while nums < n: # nums < 20\n",
    "        nums += 1\n",
    "        yield nums\n",
    "\n",
    "for n in find_sum(20):\n",
    "    print(n,end='\\t')\n",
    "    \n",
    "# sum - returns the total of all numbers in a iterable\n",
    "print('\\n')\n",
    "numbers = [x for x in range(1,20)]\n",
    "\n",
    "print(numbers)\n",
    "\n",
    "print(sum(find_sum(20)))\n",
    "print(sum(numbers))"
   ]
  },
  {
   "cell_type": "code",
   "execution_count": null,
   "id": "febf8ae5",
   "metadata": {},
   "outputs": [],
   "source": []
  }
 ],
 "metadata": {
  "kernelspec": {
   "display_name": "Python 3 (ipykernel)",
   "language": "python",
   "name": "python3"
  },
  "language_info": {
   "codemirror_mode": {
    "name": "ipython",
    "version": 3
   },
   "file_extension": ".py",
   "mimetype": "text/x-python",
   "name": "python",
   "nbconvert_exporter": "python",
   "pygments_lexer": "ipython3",
   "version": "3.7.3"
  }
 },
 "nbformat": 4,
 "nbformat_minor": 5
}
