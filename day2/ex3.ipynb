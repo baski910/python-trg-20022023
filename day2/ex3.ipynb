{
 "cells": [
  {
   "cell_type": "code",
   "execution_count": 10,
   "id": "aef3a714",
   "metadata": {},
   "outputs": [
    {
     "name": "stdout",
     "output_type": "stream",
     "text": [
      "['name', 'mark', 'subject']\n",
      "s1 {'name': 'tom', 'mark': '78', 'subject': 'math'}\n",
      "s2 {'name': 'pat', 'mark': '81', 'subject': 'science'}\n",
      "s3 {'name': 'bob', 'mark': '73', 'subject': 'english'}\n",
      "{'s1': {'name': 'tom', 'mark': '78', 'subject': 'math'}, 's2': {'name': 'pat', 'mark': '81', 'subject': 'science'}, 's3': {'name': 'bob', 'mark': '73', 'subject': 'english'}}\n"
     ]
    }
   ],
   "source": [
    "s1 = \"name,mark,subject\\ntom,78,math\\npat,81,science\\nbob,73,english\"\n",
    "\n",
    "# d1 = {\n",
    "#   's1': {'name':'tom','mark','78','subject':'math'},\n",
    "#   's2': {'name':'pat','mark','81','subject':'science'},\n",
    "#   's3': {'name':'bob','mark','73','subject':'english'},\n",
    "# }\n",
    "\n",
    "d1 = {}\n",
    "\n",
    "data = s1.split('\\n')\n",
    "\n",
    "#print(data)\n",
    "\n",
    "h = data[0]\n",
    "\n",
    "#print(h)\n",
    "\n",
    "header = h.split(',')\n",
    "print(header)\n",
    "\n",
    "for num,line in enumerate(data[1:],1):\n",
    "    line = line.split(',')\n",
    "    key = \"s{}\".format(num)\n",
    "    print(key,dict(zip(header,line)))\n",
    "    d1.setdefault(key,dict(zip(header,line)))\n",
    "\n",
    "print(d1)"
   ]
  },
  {
   "cell_type": "code",
   "execution_count": null,
   "id": "a594aaa0",
   "metadata": {},
   "outputs": [],
   "source": []
  }
 ],
 "metadata": {
  "kernelspec": {
   "display_name": "Python 3 (ipykernel)",
   "language": "python",
   "name": "python3"
  },
  "language_info": {
   "codemirror_mode": {
    "name": "ipython",
    "version": 3
   },
   "file_extension": ".py",
   "mimetype": "text/x-python",
   "name": "python",
   "nbconvert_exporter": "python",
   "pygments_lexer": "ipython3",
   "version": "3.7.3"
  }
 },
 "nbformat": 4,
 "nbformat_minor": 5
}
