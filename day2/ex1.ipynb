{
 "cells": [
  {
   "cell_type": "code",
   "execution_count": 6,
   "id": "0bc8700d",
   "metadata": {},
   "outputs": [
    {
     "name": "stdout",
     "output_type": "stream",
     "text": [
      "Not Found\n",
      "7\n"
     ]
    }
   ],
   "source": [
    "\"\"\"\n",
    "get - takes key name as argument, optionally takes default value as second argument.\n",
    "Returns the value against the key if the key is present, otherwise returns the second argument\n",
    "or None\n",
    "\"\"\"\n",
    "\n",
    "d1 = {'name':'alice','age':7,'class':'first'}\n",
    "\n",
    "#print(d1['age'])\n",
    "#print(d1.get('age'))\n",
    "\n",
    "#print(d1['lname'])\n",
    "#print(d1.get('lname'))\n",
    "print(d1.get('lname','Not Found'))\n",
    "print(d1.get('age','Not Found'))"
   ]
  },
  {
   "cell_type": "code",
   "execution_count": 14,
   "id": "6b064f34",
   "metadata": {},
   "outputs": [
    {
     "name": "stdout",
     "output_type": "stream",
     "text": [
      "{'name': 'alice', 'age': 7, 'class': 'first', 'lname': 'pat'}\n",
      "{'name': 'alice', 'age': 7, 'class': 'first', 'lname': 'pat'}\n"
     ]
    }
   ],
   "source": [
    "\"\"\"\n",
    "setdefault - takes 2 arguments. \n",
    "1st parameter is the key and 2nd parameter is the value\n",
    "Create a new key and value pair, if the key is not existing. \n",
    "No action taken if the key is already existing\n",
    "\"\"\"\n",
    "\n",
    "d1 = {'name':'alice','age':7,'class':'first'}\n",
    "\n",
    "d1['lname'] = 'pat'\n",
    "\n",
    "print(d1)\n",
    "\n",
    "#d1['lname'] = 'tom'\n",
    "\n",
    "#print(d1)\n",
    "d1.setdefault('lname','joe')\n",
    "\n",
    "print(d1)\n",
    "\n",
    "#d1.setdefault('name','bob')\n",
    "\n",
    "#print(d1)"
   ]
  },
  {
   "cell_type": "code",
   "execution_count": null,
   "id": "d78fd85a",
   "metadata": {},
   "outputs": [],
   "source": []
  }
 ],
 "metadata": {
  "kernelspec": {
   "display_name": "Python 3 (ipykernel)",
   "language": "python",
   "name": "python3"
  },
  "language_info": {
   "codemirror_mode": {
    "name": "ipython",
    "version": 3
   },
   "file_extension": ".py",
   "mimetype": "text/x-python",
   "name": "python",
   "nbconvert_exporter": "python",
   "pygments_lexer": "ipython3",
   "version": "3.7.3"
  }
 },
 "nbformat": 4,
 "nbformat_minor": 5
}
