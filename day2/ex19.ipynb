{
 "cells": [
  {
   "cell_type": "code",
   "execution_count": 2,
   "id": "09d2f2c6",
   "metadata": {},
   "outputs": [
    {
     "name": "stdout",
     "output_type": "stream",
     "text": [
      "30 6\n",
      "15\n",
      "5.0\n"
     ]
    }
   ],
   "source": [
    "# using from module import directive\n",
    "# module definitions are added to the calling script\n",
    "\n",
    "#from hello import addnum,divnum\n",
    "import hello\n",
    "\n",
    "def addnum(a,b): # overwrites the definition of addnum in hello.py\n",
    "    print(a,b)\n",
    "\n",
    "addnum(30,6)\n",
    "print(hello.addnum(10,5))\n",
    "print(hello.divnum(30,6))"
   ]
  },
  {
   "cell_type": "code",
   "execution_count": 2,
   "id": "67972a76",
   "metadata": {},
   "outputs": [
    {
     "name": "stdout",
     "output_type": "stream",
     "text": [
      "44\n",
      "10.0\n"
     ]
    }
   ],
   "source": [
    "from hello import * # entire definitions of module will be added to the current script\n",
    "\n",
    "print(addnum(40,4))\n",
    "print(divnum(40,4))"
   ]
  },
  {
   "cell_type": "code",
   "execution_count": null,
   "id": "d8d53a0f",
   "metadata": {},
   "outputs": [],
   "source": []
  }
 ],
 "metadata": {
  "kernelspec": {
   "display_name": "Python 3 (ipykernel)",
   "language": "python",
   "name": "python3"
  },
  "language_info": {
   "codemirror_mode": {
    "name": "ipython",
    "version": 3
   },
   "file_extension": ".py",
   "mimetype": "text/x-python",
   "name": "python",
   "nbconvert_exporter": "python",
   "pygments_lexer": "ipython3",
   "version": "3.7.3"
  }
 },
 "nbformat": 4,
 "nbformat_minor": 5
}
