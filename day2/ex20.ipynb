{
 "cells": [
  {
   "cell_type": "code",
   "execution_count": 1,
   "id": "5e41b4a3",
   "metadata": {},
   "outputs": [
    {
     "name": "stdout",
     "output_type": "stream",
     "text": [
      "48\n",
      "5.0\n"
     ]
    }
   ],
   "source": [
    "# __name__ - returns current namespace\n",
    "\n",
    "import hello\n",
    "\n",
    "print(hello.addnum(40,8))\n",
    "print(hello.divnum(40,8))"
   ]
  },
  {
   "cell_type": "code",
   "execution_count": null,
   "id": "d02e7e0d",
   "metadata": {},
   "outputs": [],
   "source": []
  }
 ],
 "metadata": {
  "kernelspec": {
   "display_name": "Python 3 (ipykernel)",
   "language": "python",
   "name": "python3"
  },
  "language_info": {
   "codemirror_mode": {
    "name": "ipython",
    "version": 3
   },
   "file_extension": ".py",
   "mimetype": "text/x-python",
   "name": "python",
   "nbconvert_exporter": "python",
   "pygments_lexer": "ipython3",
   "version": "3.7.3"
  }
 },
 "nbformat": 4,
 "nbformat_minor": 5
}
