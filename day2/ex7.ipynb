{
 "cells": [
  {
   "cell_type": "code",
   "execution_count": 3,
   "id": "fb61b7bb",
   "metadata": {},
   "outputs": [
    {
     "name": "stdout",
     "output_type": "stream",
     "text": [
      "64\n",
      "<function square at 0x7ff1e860a268>\n",
      "<function square at 0x7ff1e860a268>\n",
      "100\n"
     ]
    }
   ],
   "source": [
    "\"\"\"Example for first class function\"\"\"\n",
    "\n",
    "def square(x):\n",
    "    return x*x\n",
    "\n",
    "print(square(8)) # output will be 64\n",
    "\n",
    "# print the function reference using function name\n",
    "print(square) # function reference in hexadecimal form\n",
    "\n",
    "ref1 = square\n",
    "\n",
    "print(ref1)\n",
    "\n",
    "print(ref1(10)) # output will be 100"
   ]
  },
  {
   "cell_type": "code",
   "execution_count": 5,
   "id": "7d0faeb3",
   "metadata": {},
   "outputs": [
    {
     "name": "stdout",
     "output_type": "stream",
     "text": [
      "<function <lambda> at 0x7ff1e860a378>\n",
      "196\n"
     ]
    }
   ],
   "source": [
    "\"\"\"Examples for lambda function\"\"\"\n",
    "\n",
    "# defining a lambda function\n",
    "ref2 = lambda x: x*x\n",
    "\n",
    "print(ref2)\n",
    "\n",
    "print(ref2(14)) # output will be 196"
   ]
  },
  {
   "cell_type": "code",
   "execution_count": null,
   "id": "7892956c",
   "metadata": {},
   "outputs": [],
   "source": []
  }
 ],
 "metadata": {
  "kernelspec": {
   "display_name": "Python 3 (ipykernel)",
   "language": "python",
   "name": "python3"
  },
  "language_info": {
   "codemirror_mode": {
    "name": "ipython",
    "version": 3
   },
   "file_extension": ".py",
   "mimetype": "text/x-python",
   "name": "python",
   "nbconvert_exporter": "python",
   "pygments_lexer": "ipython3",
   "version": "3.7.3"
  }
 },
 "nbformat": 4,
 "nbformat_minor": 5
}
