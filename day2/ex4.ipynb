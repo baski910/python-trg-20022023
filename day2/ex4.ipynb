{
 "cells": [
  {
   "cell_type": "code",
   "execution_count": 6,
   "id": "033f1d76",
   "metadata": {},
   "outputs": [
    {
     "name": "stdout",
     "output_type": "stream",
     "text": [
      "Enter a number8\n",
      "min\n"
     ]
    }
   ],
   "source": [
    "\"\"\"control flow statements\"\"\"\n",
    "\n",
    "# if .. elif .. elif ..else\n",
    "\n",
    "num = int(input(\"Enter a number\"))\n",
    "\n",
    "#print(num)\n",
    "#print(type(num))\n",
    "\n",
    "if num<0:\n",
    "    print(\"negative\")\n",
    "elif num==0:\n",
    "    print(\"zero\")\n",
    "elif num>0 and num<10:\n",
    "    print(\"min\")\n",
    "else:\n",
    "    print(\"positive\")"
   ]
  },
  {
   "cell_type": "code",
   "execution_count": 8,
   "id": "46ea7f72",
   "metadata": {},
   "outputs": [
    {
     "name": "stdout",
     "output_type": "stream",
     "text": [
      "0\n",
      "1\n",
      "2\n",
      "3\n",
      "4\n"
     ]
    }
   ],
   "source": [
    "# for .. else\n",
    "\n",
    "for num in range(10):\n",
    "    if num==5:\n",
    "        break\n",
    "    print(num)\n",
    "else:\n",
    "    print(\"all iterations completed\")"
   ]
  },
  {
   "cell_type": "code",
   "execution_count": 11,
   "id": "4281eda0",
   "metadata": {},
   "outputs": [
    {
     "name": "stdout",
     "output_type": "stream",
     "text": [
      "1\n",
      "2\n",
      "3\n",
      "4\n",
      "6\n",
      "7\n",
      "8\n",
      "9\n",
      "10\n",
      "all iterations completed\n"
     ]
    }
   ],
   "source": [
    "# while .. else\n",
    "count = 0\n",
    "while count < 10:\n",
    "    count += 1\n",
    "    if count == 5:\n",
    "        #break\n",
    "        continue\n",
    "    print(count)\n",
    "else:\n",
    "    print(\"all iterations completed\")"
   ]
  },
  {
   "cell_type": "code",
   "execution_count": null,
   "id": "ade5cb78",
   "metadata": {},
   "outputs": [],
   "source": []
  }
 ],
 "metadata": {
  "kernelspec": {
   "display_name": "Python 3 (ipykernel)",
   "language": "python",
   "name": "python3"
  },
  "language_info": {
   "codemirror_mode": {
    "name": "ipython",
    "version": 3
   },
   "file_extension": ".py",
   "mimetype": "text/x-python",
   "name": "python",
   "nbconvert_exporter": "python",
   "pygments_lexer": "ipython3",
   "version": "3.7.3"
  }
 },
 "nbformat": 4,
 "nbformat_minor": 5
}
