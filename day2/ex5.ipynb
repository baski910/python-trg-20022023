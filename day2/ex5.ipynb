{
 "cells": [
  {
   "cell_type": "code",
   "execution_count": 3,
   "id": "20f7e543",
   "metadata": {},
   "outputs": [
    {
     "name": "stdout",
     "output_type": "stream",
     "text": [
      "a line outside the function\n",
      "helloworld\n",
      "this line is part of the function\n",
      "helloworld\n",
      "this line is part of the function\n",
      "helloworld\n",
      "this line is part of the function\n",
      "this is an example function\n"
     ]
    }
   ],
   "source": [
    "\"\"\"Examples for functions\"\"\"\n",
    "\n",
    "def sayHello():\n",
    "    \"\"\"this is an example function\"\"\"\n",
    "    print(\"helloworld\")\n",
    "    print(\"this line is part of the function\")\n",
    "print(\"a line outside the function\")\n",
    "\n",
    "sayHello()\n",
    "sayHello()\n",
    "sayHello()\n",
    "print(sayHello.__doc__)"
   ]
  },
  {
   "cell_type": "code",
   "execution_count": null,
   "id": "9fc11e7f",
   "metadata": {},
   "outputs": [],
   "source": []
  }
 ],
 "metadata": {
  "kernelspec": {
   "display_name": "Python 3 (ipykernel)",
   "language": "python",
   "name": "python3"
  },
  "language_info": {
   "codemirror_mode": {
    "name": "ipython",
    "version": 3
   },
   "file_extension": ".py",
   "mimetype": "text/x-python",
   "name": "python",
   "nbconvert_exporter": "python",
   "pygments_lexer": "ipython3",
   "version": "3.7.3"
  }
 },
 "nbformat": 4,
 "nbformat_minor": 5
}
