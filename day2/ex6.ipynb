{
 "cells": [
  {
   "cell_type": "code",
   "execution_count": 2,
   "id": "16040e8a",
   "metadata": {},
   "outputs": [
    {
     "name": "stdout",
     "output_type": "stream",
     "text": [
      "hello\n"
     ]
    }
   ],
   "source": [
    "def echo(n): # 'n' required parameter\n",
    "    print(n)\n",
    "    \n",
    "# function call without parameter leads to error.\n",
    "# the parameter is required and can not be omitted\n",
    "echo()"
   ]
  },
  {
   "cell_type": "code",
   "execution_count": 5,
   "id": "d494553b",
   "metadata": {},
   "outputs": [
    {
     "name": "stdout",
     "output_type": "stream",
     "text": [
      "Name: bob\n",
      "Age: 10\n"
     ]
    }
   ],
   "source": [
    "def display(name,age):\n",
    "    print(\"Name: {}\".format(name)) # From v 3.8 print(\"Name:{name}\")\n",
    "    print(\"Age: {}\".format(age))\n",
    "\n",
    "# The parameters can be treated as keyword in function call\n",
    "# and passing order can be modified\n",
    "\n",
    "#display('bob',10)\n",
    "#display(10,'bob') # passing parameters in different order\n",
    "display(age=10,name='bob') # parameters used as keywords"
   ]
  },
  {
   "cell_type": "code",
   "execution_count": 6,
   "id": "c082ecad",
   "metadata": {},
   "outputs": [
    {
     "name": "stdout",
     "output_type": "stream",
     "text": [
      "360.0\n"
     ]
    }
   ],
   "source": [
    "# in the below function parameter 'r' is assgined value in the function definition and is\n",
    "# called as default argument.\n",
    "def calculateinterest(p,n,r=12):\n",
    "    return p*n*r/100\n",
    "\n",
    "# no need of including default argument in the function call\n",
    "total = calculateinterest(1000,3) # the value for 'r' is 12\n",
    "print(total)"
   ]
  },
  {
   "cell_type": "code",
   "execution_count": 7,
   "id": "86132f47",
   "metadata": {},
   "outputs": [
    {
     "name": "stdout",
     "output_type": "stream",
     "text": [
      "240.0\n"
     ]
    }
   ],
   "source": [
    "# The value provided for default argument is considered in function call (or) default value is overwritten\n",
    "total = calculateinterest(1000,3,8) # the value for 'r' is 8\n",
    "print(total)\n"
   ]
  },
  {
   "cell_type": "code",
   "execution_count": 10,
   "id": "9f5180c1",
   "metadata": {},
   "outputs": [
    {
     "name": "stdout",
     "output_type": "stream",
     "text": [
      "106\n",
      "162\n"
     ]
    }
   ],
   "source": [
    "def process(listvalue, op):\n",
    "    result = 0\n",
    "    for numbers in listvalue:\n",
    "        if op == '+':\n",
    "            result += numbers[0]+numbers[1]\n",
    "        elif op == '*':\n",
    "            result += numbers[0]*numbers[1]\n",
    "    return result\n",
    "    \n",
    "numbers1 = [[10,20],[11,21],[12,32]]\n",
    "\n",
    "print(process(numbers1,'+'))\n",
    "\n",
    "numbers2 = [[15,2],[20,3],[18,4]]\n",
    "\n",
    "print(process(numbers2,'*'))\n",
    "#for numbers in list_of_numbers:\n",
    "#    result = numbers[0]+number[1]\n",
    "    \n",
    "#for numbers in list_of_numbers:\n",
    "#    result = numbers[0]*number[1]"
   ]
  },
  {
   "cell_type": "code",
   "execution_count": 22,
   "id": "40d2f505",
   "metadata": {},
   "outputs": [
    {
     "name": "stdout",
     "output_type": "stream",
     "text": [
      "[3467, 8092, 7814, 5632]\n",
      "[7643, 2908, 4187, 2365]\n"
     ]
    }
   ],
   "source": [
    "#num = int(input(\"Enter a number\"))\n",
    "\n",
    "numbers = [3467,8092,7814,5632]\n",
    "\n",
    "revnumbers = []\n",
    "\n",
    "def revnum(n):\n",
    "    reversednum = 0\n",
    "    num1 = n\n",
    "    while n>0:\n",
    "        rem = n%10 # 3452%10\n",
    "        reversednum = (reversednum+rem)*10\n",
    "        n = int(n/10) # 3452/10\n",
    "        if n<10:\n",
    "            reversednum += n\n",
    "            break\n",
    "    return reversednum\n",
    "\n",
    "for element in numbers:\n",
    "    revnumbers.append(revnum(element))\n",
    "\n",
    "print(numbers)\n",
    "print(revnumbers)"
   ]
  },
  {
   "cell_type": "code",
   "execution_count": 27,
   "id": "471902ef",
   "metadata": {},
   "outputs": [
    {
     "name": "stdout",
     "output_type": "stream",
     "text": [
      "341\n",
      "823\n"
     ]
    }
   ],
   "source": [
    "# passing unknown number of parameters to a function (or) variable number of arguments\n",
    "# find the maximum out of the numbers passed. (we could even use 'max' to achieve the same).\n",
    "# this is an example for passing variable number of arguments\n",
    "\n",
    "def find_max(*args):\n",
    "    # args is stored as a tuple\n",
    "    #print(args)\n",
    "    m = args[0]\n",
    "    for v in args:\n",
    "        if m<v:\n",
    "            m=v\n",
    "    return m\n",
    "\n",
    "    \n",
    "maxval = find_max(65,70,12,341,59,63)\n",
    "\n",
    "print(maxval)\n",
    "maxval = find_max(65,9,70,581,12,341,823,59,63)\n",
    "print(maxval)"
   ]
  },
  {
   "cell_type": "code",
   "execution_count": null,
   "id": "fed0b98b",
   "metadata": {},
   "outputs": [],
   "source": []
  }
 ],
 "metadata": {
  "kernelspec": {
   "display_name": "Python 3 (ipykernel)",
   "language": "python",
   "name": "python3"
  },
  "language_info": {
   "codemirror_mode": {
    "name": "ipython",
    "version": 3
   },
   "file_extension": ".py",
   "mimetype": "text/x-python",
   "name": "python",
   "nbconvert_exporter": "python",
   "pygments_lexer": "ipython3",
   "version": "3.7.3"
  }
 },
 "nbformat": 4,
 "nbformat_minor": 5
}
