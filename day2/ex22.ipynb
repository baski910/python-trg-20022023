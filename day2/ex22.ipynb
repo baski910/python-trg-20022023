{
 "cells": [
  {
   "cell_type": "code",
   "execution_count": 5,
   "id": "b87dc5ea",
   "metadata": {},
   "outputs": [
    {
     "name": "stdout",
     "output_type": "stream",
     "text": [
      "/home/baskar/pythonexamples/chapter_wise_notes/14_10_2022_ses2\n",
      "['dir1', 'demo_2.jpg', 'ex3.ipynb', 'ex2.ipynb', 'hello.py', 'readme.txt', 'image_1.jpg', 'mypackage1', 'ex5.ipynb', 'myfile2.txt', 'ex9.ipynb', 'ex4.ipynb', 'ex1.ipynb', 'ex8.ipynb', 'ex7.ipynb', 'myfile1.txt', 'ex6.ipynb', '.ipynb_checkpoints', '__pycache__']\n",
      "os.stat_result(st_mode=33188, st_ino=31204809, st_dev=2056, st_nlink=1, st_uid=1000, st_gid=1000, st_size=280, st_atime=1665753075, st_mtime=1665753020, st_ctime=1665753020)\n"
     ]
    }
   ],
   "source": [
    "# standard modules in python\n",
    "# os,sys, datetime, random\n",
    "import os\n",
    "\n",
    "#print(dir(os))\n",
    "\n",
    "#get the current working directory\n",
    "print(os.getcwd())\n",
    "\n",
    "curdir = os.getcwd()\n",
    "\n",
    "# create a directory\n",
    "if not os.path.exists('dir1'):\n",
    "    os.mkdir('dir1')\n",
    "    \n",
    "# get the list of files/directories from given path\n",
    "contents = os.listdir('.') # . (dot) - refers current directory\n",
    "\n",
    "print(contents)\n",
    "\n",
    "# get the metadata of a file. The return value is a list\n",
    "print(os.stat('hello.py'))"
   ]
  },
  {
   "cell_type": "code",
   "execution_count": 13,
   "id": "80bc4aa1",
   "metadata": {},
   "outputs": [
    {
     "name": "stdout",
     "output_type": "stream",
     "text": [
      "/home/baskar/pythonexamples/chapter_wise_notes/14_10_2022_ses2/demo_2.jpg 61653 Fri Oct 14 17:15:04 2022\n",
      "/home/baskar/pythonexamples/chapter_wise_notes/14_10_2022_ses2/ex3.ipynb 3984 Fri Oct 14 17:46:07 2022\n",
      "/home/baskar/pythonexamples/chapter_wise_notes/14_10_2022_ses2/ex2.ipynb 4138 Fri Oct 14 17:26:15 2022\n",
      "/home/baskar/pythonexamples/chapter_wise_notes/14_10_2022_ses2/hello.py 280 Fri Oct 14 18:40:20 2022\n",
      "/home/baskar/pythonexamples/chapter_wise_notes/14_10_2022_ses2/readme.txt 1723 Fri Oct 14 17:33:52 2022\n",
      "/home/baskar/pythonexamples/chapter_wise_notes/14_10_2022_ses2/image_1.jpg 0 Fri Oct 14 17:22:33 2022\n",
      "/home/baskar/pythonexamples/chapter_wise_notes/14_10_2022_ses2/ex5.ipynb 2031 Fri Oct 14 18:19:05 2022\n",
      "/home/baskar/pythonexamples/chapter_wise_notes/14_10_2022_ses2/myfile2.txt 53 Fri Oct 14 17:12:17 2022\n",
      "/home/baskar/pythonexamples/chapter_wise_notes/14_10_2022_ses2/ex9.ipynb 3921 Fri Oct 14 19:27:36 2022\n",
      "/home/baskar/pythonexamples/chapter_wise_notes/14_10_2022_ses2/ex4.ipynb 1359 Fri Oct 14 17:57:40 2022\n",
      "/home/baskar/pythonexamples/chapter_wise_notes/14_10_2022_ses2/ex1.ipynb 1957 Fri Oct 14 17:16:32 2022\n",
      "/home/baskar/pythonexamples/chapter_wise_notes/14_10_2022_ses2/ex8.ipynb 1183 Fri Oct 14 18:53:53 2022\n",
      "/home/baskar/pythonexamples/chapter_wise_notes/14_10_2022_ses2/ex7.ipynb 1000 Fri Oct 14 18:42:28 2022\n",
      "/home/baskar/pythonexamples/chapter_wise_notes/14_10_2022_ses2/myfile1.txt 106 Fri Oct 14 17:14:00 2022\n",
      "/home/baskar/pythonexamples/chapter_wise_notes/14_10_2022_ses2/ex6.ipynb 1667 Fri Oct 14 18:32:56 2022\n"
     ]
    }
   ],
   "source": [
    "import time\n",
    "for file in contents:\n",
    "    filepath = os.path.join(curdir,file)\n",
    "    if os.path.isfile(filepath):\n",
    "        modtime = time.asctime(time.localtime(os.stat(filepath)[8]))\n",
    "        print(filepath,os.stat(filepath)[6],modtime)"
   ]
  },
  {
   "cell_type": "code",
   "execution_count": 14,
   "id": "badbe051",
   "metadata": {},
   "outputs": [
    {
     "name": "stdout",
     "output_type": "stream",
     "text": [
      "Type in value:  \n",
      "Way to write"
     ]
    },
    {
     "data": {
      "text/plain": [
       "12"
      ]
     },
     "execution_count": 14,
     "metadata": {},
     "output_type": "execute_result"
    }
   ],
   "source": [
    "\"\"\"Examples for sys modules\"\"\"\n",
    "import sys\n",
    "\n",
    "print(\"Type in value: \",sys.stdin.readline()[:-1])\n",
    "\n",
    "\n",
    "sys.stdout.write('Way to write')"
   ]
  },
  {
   "cell_type": "code",
   "execution_count": 15,
   "id": "1f619c4c",
   "metadata": {},
   "outputs": [],
   "source": [
    "cur_ref=sys.stdout\n",
    "fh=open('out.log','w')\n",
    "sys.stdout=fh\n",
    "print('Message to log file')\n",
    "print('sys.stdout redirected')\n",
    "sys.stdout=cur_ref\n",
    "fh.close()"
   ]
  },
  {
   "cell_type": "code",
   "execution_count": 26,
   "id": "bbc9ee18",
   "metadata": {},
   "outputs": [
    {
     "name": "stdout",
     "output_type": "stream",
     "text": [
      "2022-10-14 19:47:44.276116\n"
     ]
    }
   ],
   "source": [
    "\"\"\"datetime examples\"\"\"\n",
    "import datetime\n",
    "\n",
    "x = datetime.datetime.now()\n",
    "print(x)"
   ]
  },
  {
   "cell_type": "code",
   "execution_count": 17,
   "id": "11ade4f7",
   "metadata": {},
   "outputs": [
    {
     "name": "stdout",
     "output_type": "stream",
     "text": [
      "2022\n"
     ]
    }
   ],
   "source": [
    "print(x.year)"
   ]
  },
  {
   "cell_type": "code",
   "execution_count": 18,
   "id": "936736de",
   "metadata": {},
   "outputs": [
    {
     "name": "stdout",
     "output_type": "stream",
     "text": [
      "10\n"
     ]
    }
   ],
   "source": [
    "print(x.month)"
   ]
  },
  {
   "cell_type": "code",
   "execution_count": 19,
   "id": "311ebab8",
   "metadata": {},
   "outputs": [
    {
     "name": "stdout",
     "output_type": "stream",
     "text": [
      "14\n"
     ]
    }
   ],
   "source": [
    "print(x.day)"
   ]
  },
  {
   "cell_type": "code",
   "execution_count": 24,
   "id": "b5fd142a",
   "metadata": {},
   "outputs": [
    {
     "name": "stdout",
     "output_type": "stream",
     "text": [
      "Fri 14th Oct 2022\n"
     ]
    }
   ],
   "source": [
    "print(\"%s %dth %s %s\" %(x.strftime(\"%a\"),x.day,x.strftime(\"%b\"),x.year))"
   ]
  },
  {
   "cell_type": "code",
   "execution_count": 29,
   "id": "f4394958",
   "metadata": {},
   "outputs": [
    {
     "name": "stdout",
     "output_type": "stream",
     "text": [
      "2022-10-14 19:56:31.696421\n",
      "2022-10-15 00:56:31.696421\n"
     ]
    }
   ],
   "source": [
    "current_time = datetime.datetime.now()\n",
    "print(current_time)\n",
    "hours_to_add = 5\n",
    "hours_added = datetime.timedelta(hours = hours_to_add)\n",
    "future_time = current_time + hours_added\n",
    "print(future_time)"
   ]
  },
  {
   "cell_type": "code",
   "execution_count": 31,
   "id": "e4cf1371",
   "metadata": {},
   "outputs": [
    {
     "name": "stdout",
     "output_type": "stream",
     "text": [
      "9\n",
      "91\n",
      "0.9018558556345866\n"
     ]
    }
   ],
   "source": [
    "import random\n",
    "print(random.randint(0,10))\n",
    "\n",
    "#random.randrange(start, stop[, step])\n",
    "\n",
    "print(random.randrange(11,100,10)) # possible value are 11,21,31,41,51,...\n",
    "\n",
    "# 11 + (0,8)*10  11 + 1*10  11 + 2*10\n",
    "\n",
    "print(random.random()) # generate floating value"
   ]
  },
  {
   "cell_type": "code",
   "execution_count": 34,
   "id": "f34681c6",
   "metadata": {},
   "outputs": [
    {
     "name": "stdout",
     "output_type": "stream",
     "text": [
      "chrysler\n"
     ]
    }
   ],
   "source": [
    "myList = [\"bmw\", \"volvo\", \"toyota\", \"chrysler\"]\n",
    "print(random.choice(myList))"
   ]
  },
  {
   "cell_type": "code",
   "execution_count": 33,
   "id": "b33fc387",
   "metadata": {},
   "outputs": [
    {
     "name": "stdout",
     "output_type": "stream",
     "text": [
      "['volvo', 'chrysler', 'toyota']\n"
     ]
    }
   ],
   "source": [
    "myList = [\"bmw\", \"volvo\", \"toyota\", \"chrysler\"]\n",
    "print(random.sample(myList, 3))"
   ]
  },
  {
   "cell_type": "code",
   "execution_count": 36,
   "id": "ca675f22",
   "metadata": {},
   "outputs": [
    {
     "name": "stdout",
     "output_type": "stream",
     "text": [
      "toyota\n",
      "toyota\n",
      "toyota\n",
      "toyota\n",
      "bmw\n"
     ]
    }
   ],
   "source": [
    "chances = 0\n",
    "while chances<5:\n",
    "    choice = ''\n",
    "    myList = [\"bmw\", \"volvo\", \"toyota\", \"chrysler\"]\n",
    "    choice = random.choice(myList)\n",
    "    print(choice)\n",
    "    chances += 1"
   ]
  },
  {
   "cell_type": "code",
   "execution_count": 6,
   "id": "592ab8b8",
   "metadata": {},
   "outputs": [
    {
     "name": "stdout",
     "output_type": "stream",
     "text": [
      "/home/baskar/pythonexamples/chapter_wise_notes/14_10_2022_ses2\n",
      "\n"
     ]
    }
   ],
   "source": [
    "\"\"\"Example for subprocess\"\"\"\n",
    "import subprocess\n",
    "# subprocess used for executing system command\n",
    "x = subprocess.Popen(['pwd'], stdout=subprocess.PIPE, shell=True)\n",
    "stdout,stderr = x.communicate()\n",
    "\n",
    "print(stdout.decode('utf-8'))"
   ]
  },
  {
   "cell_type": "code",
   "execution_count": null,
   "id": "1e627c03",
   "metadata": {},
   "outputs": [],
   "source": []
  }
 ],
 "metadata": {
  "kernelspec": {
   "display_name": "Python 3 (ipykernel)",
   "language": "python",
   "name": "python3"
  },
  "language_info": {
   "codemirror_mode": {
    "name": "ipython",
    "version": 3
   },
   "file_extension": ".py",
   "mimetype": "text/x-python",
   "name": "python",
   "nbconvert_exporter": "python",
   "pygments_lexer": "ipython3",
   "version": "3.7.3"
  }
 },
 "nbformat": 4,
 "nbformat_minor": 5
}
