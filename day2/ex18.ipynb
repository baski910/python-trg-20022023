{
 "cells": [
  {
   "cell_type": "code",
   "execution_count": 1,
   "id": "08f45dd1",
   "metadata": {},
   "outputs": [
    {
     "name": "stdout",
     "output_type": "stream",
     "text": [
      "30\n",
      "5.0\n"
     ]
    }
   ],
   "source": [
    "# Modules are namespace\n",
    "\n",
    "# import modulename\n",
    "\n",
    "# from modulename import function/class/variables\n",
    "#import sys\n",
    "\n",
    "# adding a custom location to sys.path variable\n",
    "#sys.path.append('/home/baskar/pythonexamples/chapter_wise_notes/13_10_2022_ses2')\n",
    "\n",
    "import hello\n",
    "\n",
    "print(hello.addnum(25,5))\n",
    "print(hello.divnum(25,5))"
   ]
  },
  {
   "cell_type": "code",
   "execution_count": 2,
   "id": "927d8d8f",
   "metadata": {},
   "outputs": [
    {
     "name": "stdout",
     "output_type": "stream",
     "text": [
      "['/home/baskar/pythonexamples/chapter_wise_notes/14_10_2022_ses2', '/home/baskar/venv-python37/lib/python37.zip', '/home/baskar/venv-python37/lib/python3.7', '/home/baskar/venv-python37/lib/python3.7/lib-dynload', '/usr/lib/python3.7', '', '/home/baskar/venv-python37/lib/python3.7/site-packages', '/home/baskar/venv-python37/lib/python3.7/site-packages/IPython/extensions', '/home/baskar/.ipython']\n"
     ]
    }
   ],
   "source": [
    "# module search path\n",
    "\n",
    "import sys\n",
    "\n",
    "print(sys.path) # returns module search path"
   ]
  },
  {
   "cell_type": "code",
   "execution_count": null,
   "id": "a2ed2bf7",
   "metadata": {},
   "outputs": [],
   "source": []
  }
 ],
 "metadata": {
  "kernelspec": {
   "display_name": "Python 3 (ipykernel)",
   "language": "python",
   "name": "python3"
  },
  "language_info": {
   "codemirror_mode": {
    "name": "ipython",
    "version": 3
   },
   "file_extension": ".py",
   "mimetype": "text/x-python",
   "name": "python",
   "nbconvert_exporter": "python",
   "pygments_lexer": "ipython3",
   "version": "3.7.3"
  }
 },
 "nbformat": 4,
 "nbformat_minor": 5
}
