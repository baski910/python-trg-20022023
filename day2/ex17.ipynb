{
 "cells": [
  {
   "cell_type": "code",
   "execution_count": 5,
   "id": "c26382b5",
   "metadata": {},
   "outputs": [
    {
     "name": "stdout",
     "output_type": "stream",
     "text": [
      "b'Vim f'\n",
      "5\n",
      "b'bian\\n'\n",
      "15\n"
     ]
    }
   ],
   "source": [
    "# positioning cursor\n",
    "fh = open('readme.txt','rb')\n",
    "\n",
    "print(fh.read(5)) # read first 5 bytes\n",
    "\n",
    "print(fh.tell()) # returns current cursor position\n",
    "\n",
    "#fh.seek(10,0) # move to 10th byte from beginning\n",
    "fh.seek(5,1) # move to 10th byte from current cursor position. File needs to be opened in binary mode\n",
    "\n",
    "print(fh.read(5))\n",
    "\n",
    "print(fh.tell())\n",
    "\n",
    "fh.close()"
   ]
  },
  {
   "cell_type": "code",
   "execution_count": null,
   "id": "cc1b8807",
   "metadata": {},
   "outputs": [],
   "source": []
  }
 ],
 "metadata": {
  "kernelspec": {
   "display_name": "Python 3 (ipykernel)",
   "language": "python",
   "name": "python3"
  },
  "language_info": {
   "codemirror_mode": {
    "name": "ipython",
    "version": 3
   },
   "file_extension": ".py",
   "mimetype": "text/x-python",
   "name": "python",
   "nbconvert_exporter": "python",
   "pygments_lexer": "ipython3",
   "version": "3.7.3"
  }
 },
 "nbformat": 4,
 "nbformat_minor": 5
}
