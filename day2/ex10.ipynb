{
 "cells": [
  {
   "cell_type": "code",
   "execution_count": 1,
   "id": "39c96ad2",
   "metadata": {},
   "outputs": [
    {
     "name": "stdout",
     "output_type": "stream",
     "text": [
      "inside function: 20\n",
      "value of y: 5\n",
      "value of y: 5\n",
      "outside function: 20\n"
     ]
    }
   ],
   "source": [
    "\"\"\"Examples for using global keyword\"\"\"\n",
    "\n",
    "x=20 # has a global scope\n",
    "\n",
    "def f():\n",
    "    global y # y becomes global variable\n",
    "    y = 5\n",
    "    print(\"inside function:\",x) # accessing the global variable, as 'x' not redefined inside the function\n",
    "    print(\"value of y:\",y)\n",
    "    \n",
    "f()\n",
    "\n",
    "print(\"value of y:\",y)\n",
    "print(\"outside function:\",x)"
   ]
  },
  {
   "cell_type": "code",
   "execution_count": null,
   "id": "3b6a17ab",
   "metadata": {},
   "outputs": [],
   "source": []
  }
 ],
 "metadata": {
  "kernelspec": {
   "display_name": "Python 3 (ipykernel)",
   "language": "python",
   "name": "python3"
  },
  "language_info": {
   "codemirror_mode": {
    "name": "ipython",
    "version": 3
   },
   "file_extension": ".py",
   "mimetype": "text/x-python",
   "name": "python",
   "nbconvert_exporter": "python",
   "pygments_lexer": "ipython3",
   "version": "3.7.3"
  }
 },
 "nbformat": 4,
 "nbformat_minor": 5
}
